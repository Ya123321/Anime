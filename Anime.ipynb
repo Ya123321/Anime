{
 "cells": [
  {
   "cell_type": "code",
   "execution_count": 1,
   "metadata": {},
   "outputs": [],
   "source": [
    "import pandas as pd\n",
    "import numpy as np\n",
    "import seaborn as sns\n",
    "import matplotlib.pyplot as plt\n",
    "import matplotlib.colors as mcolors\n",
    "plt.style.use('ggplot')\n",
    "sns.set_style(\"whitegrid\")"
   ]
  },
  {
   "cell_type": "code",
   "execution_count": 3,
   "metadata": {},
   "outputs": [
    {
     "data": {
      "text/html": [
       "<div>\n",
       "<style scoped>\n",
       "    .dataframe tbody tr th:only-of-type {\n",
       "        vertical-align: middle;\n",
       "    }\n",
       "\n",
       "    .dataframe tbody tr th {\n",
       "        vertical-align: top;\n",
       "    }\n",
       "\n",
       "    .dataframe thead th {\n",
       "        text-align: right;\n",
       "    }\n",
       "</style>\n",
       "<table border=\"1\" class=\"dataframe\">\n",
       "  <thead>\n",
       "    <tr style=\"text-align: right;\">\n",
       "      <th></th>\n",
       "      <th>anime_id</th>\n",
       "      <th>title</th>\n",
       "      <th>genres</th>\n",
       "      <th>media</th>\n",
       "      <th>episodes</th>\n",
       "      <th>rating</th>\n",
       "      <th>members</th>\n",
       "      <th>start_date</th>\n",
       "      <th>season</th>\n",
       "      <th>source</th>\n",
       "    </tr>\n",
       "  </thead>\n",
       "  <tbody>\n",
       "    <tr>\n",
       "      <th>0</th>\n",
       "      <td>1</td>\n",
       "      <td>Cowboy Bebop</td>\n",
       "      <td>Action,Adventure,Comedy,Drama,Sci-Fi,Space</td>\n",
       "      <td>tv</td>\n",
       "      <td>26</td>\n",
       "      <td>8.77</td>\n",
       "      <td>1324054.0</td>\n",
       "      <td>1998/4/3</td>\n",
       "      <td>spring_1998</td>\n",
       "      <td>original</td>\n",
       "    </tr>\n",
       "    <tr>\n",
       "      <th>1</th>\n",
       "      <td>5</td>\n",
       "      <td>Cowboy Bebop: Tengoku no Tobira</td>\n",
       "      <td>Action,Drama,Mystery,Sci-Fi,Space</td>\n",
       "      <td>movie</td>\n",
       "      <td>1</td>\n",
       "      <td>8.39</td>\n",
       "      <td>284827.0</td>\n",
       "      <td>2001/9/1</td>\n",
       "      <td>summer_2001</td>\n",
       "      <td>original</td>\n",
       "    </tr>\n",
       "    <tr>\n",
       "      <th>2</th>\n",
       "      <td>6</td>\n",
       "      <td>Trigun</td>\n",
       "      <td>Action,Sci-Fi,Adventure,Comedy,Drama,Shounen</td>\n",
       "      <td>tv</td>\n",
       "      <td>26</td>\n",
       "      <td>8.23</td>\n",
       "      <td>578887.0</td>\n",
       "      <td>1998/4/1</td>\n",
       "      <td>spring_1998</td>\n",
       "      <td>manga</td>\n",
       "    </tr>\n",
       "    <tr>\n",
       "      <th>3</th>\n",
       "      <td>7</td>\n",
       "      <td>Witch Hunter Robin</td>\n",
       "      <td>Action,Mystery,Police,Supernatural,Drama,Magic</td>\n",
       "      <td>tv</td>\n",
       "      <td>26</td>\n",
       "      <td>7.27</td>\n",
       "      <td>96487.0</td>\n",
       "      <td>2002/7/2</td>\n",
       "      <td>summer_2002</td>\n",
       "      <td>original</td>\n",
       "    </tr>\n",
       "    <tr>\n",
       "      <th>4</th>\n",
       "      <td>8</td>\n",
       "      <td>Bouken Ou Beet</td>\n",
       "      <td>Adventure,Fantasy,Shounen,Supernatural</td>\n",
       "      <td>tv</td>\n",
       "      <td>52</td>\n",
       "      <td>6.97</td>\n",
       "      <td>13450.0</td>\n",
       "      <td>2004/9/30</td>\n",
       "      <td>fall_2004</td>\n",
       "      <td>manga</td>\n",
       "    </tr>\n",
       "    <tr>\n",
       "      <th>...</th>\n",
       "      <td>...</td>\n",
       "      <td>...</td>\n",
       "      <td>...</td>\n",
       "      <td>...</td>\n",
       "      <td>...</td>\n",
       "      <td>...</td>\n",
       "      <td>...</td>\n",
       "      <td>...</td>\n",
       "      <td>...</td>\n",
       "      <td>...</td>\n",
       "    </tr>\n",
       "    <tr>\n",
       "      <th>15216</th>\n",
       "      <td>42392</td>\n",
       "      <td>Grisaia: Phantom Trigger The Animation - Starg...</td>\n",
       "      <td>Action,School</td>\n",
       "      <td>movie</td>\n",
       "      <td>1</td>\n",
       "      <td>6.95</td>\n",
       "      <td>16328.0</td>\n",
       "      <td>2020/11/27</td>\n",
       "      <td>fall_2020</td>\n",
       "      <td>visual_novel</td>\n",
       "    </tr>\n",
       "    <tr>\n",
       "      <th>15217</th>\n",
       "      <td>42395</td>\n",
       "      <td>Shakunetsu Kabaddi</td>\n",
       "      <td>Action,Comedy,School,Sports</td>\n",
       "      <td>tv</td>\n",
       "      <td>12</td>\n",
       "      <td>7.10</td>\n",
       "      <td>49112.0</td>\n",
       "      <td>2021/4/3</td>\n",
       "      <td>spring_2021</td>\n",
       "      <td>web_manga</td>\n",
       "    </tr>\n",
       "    <tr>\n",
       "      <th>15218</th>\n",
       "      <td>42397</td>\n",
       "      <td>Benkai to Ushiwakamaru</td>\n",
       "      <td>Comedy,Historical,Samurai</td>\n",
       "      <td>movie</td>\n",
       "      <td>1</td>\n",
       "      <td>NaN</td>\n",
       "      <td>65.0</td>\n",
       "      <td>1999/12/4</td>\n",
       "      <td>fall_1999</td>\n",
       "      <td>NaN</td>\n",
       "    </tr>\n",
       "    <tr>\n",
       "      <th>15219</th>\n",
       "      <td>42399</td>\n",
       "      <td>Honnouji no Hen</td>\n",
       "      <td>Historical,Samurai</td>\n",
       "      <td>movie</td>\n",
       "      <td>1</td>\n",
       "      <td>NaN</td>\n",
       "      <td>68.0</td>\n",
       "      <td>2000/3/18</td>\n",
       "      <td>winter_2000</td>\n",
       "      <td>NaN</td>\n",
       "    </tr>\n",
       "    <tr>\n",
       "      <th>15220</th>\n",
       "      <td>42400</td>\n",
       "      <td>Heian Sento</td>\n",
       "      <td>Comedy,Historical</td>\n",
       "      <td>movie</td>\n",
       "      <td>1</td>\n",
       "      <td>NaN</td>\n",
       "      <td>117.0</td>\n",
       "      <td>2000/11/3</td>\n",
       "      <td>fall_2000</td>\n",
       "      <td>NaN</td>\n",
       "    </tr>\n",
       "  </tbody>\n",
       "</table>\n",
       "<p>15221 rows × 10 columns</p>\n",
       "</div>"
      ],
      "text/plain": [
       "       anime_id                                              title  \\\n",
       "0             1                                       Cowboy Bebop   \n",
       "1             5                    Cowboy Bebop: Tengoku no Tobira   \n",
       "2             6                                             Trigun   \n",
       "3             7                                 Witch Hunter Robin   \n",
       "4             8                                     Bouken Ou Beet   \n",
       "...         ...                                                ...   \n",
       "15216     42392  Grisaia: Phantom Trigger The Animation - Starg...   \n",
       "15217     42395                                 Shakunetsu Kabaddi   \n",
       "15218     42397                             Benkai to Ushiwakamaru   \n",
       "15219     42399                                    Honnouji no Hen   \n",
       "15220     42400                                        Heian Sento   \n",
       "\n",
       "                                               genres  media  episodes  \\\n",
       "0          Action,Adventure,Comedy,Drama,Sci-Fi,Space     tv        26   \n",
       "1                   Action,Drama,Mystery,Sci-Fi,Space  movie         1   \n",
       "2        Action,Sci-Fi,Adventure,Comedy,Drama,Shounen     tv        26   \n",
       "3      Action,Mystery,Police,Supernatural,Drama,Magic     tv        26   \n",
       "4              Adventure,Fantasy,Shounen,Supernatural     tv        52   \n",
       "...                                               ...    ...       ...   \n",
       "15216                                   Action,School  movie         1   \n",
       "15217                     Action,Comedy,School,Sports     tv        12   \n",
       "15218                       Comedy,Historical,Samurai  movie         1   \n",
       "15219                              Historical,Samurai  movie         1   \n",
       "15220                               Comedy,Historical  movie         1   \n",
       "\n",
       "       rating    members  start_date       season        source  \n",
       "0        8.77  1324054.0    1998/4/3  spring_1998      original  \n",
       "1        8.39   284827.0    2001/9/1  summer_2001      original  \n",
       "2        8.23   578887.0    1998/4/1  spring_1998         manga  \n",
       "3        7.27    96487.0    2002/7/2  summer_2002      original  \n",
       "4        6.97    13450.0   2004/9/30    fall_2004         manga  \n",
       "...       ...        ...         ...          ...           ...  \n",
       "15216    6.95    16328.0  2020/11/27    fall_2020  visual_novel  \n",
       "15217    7.10    49112.0    2021/4/3  spring_2021     web_manga  \n",
       "15218     NaN       65.0   1999/12/4    fall_1999           NaN  \n",
       "15219     NaN       68.0   2000/3/18  winter_2000           NaN  \n",
       "15220     NaN      117.0   2000/11/3    fall_2000           NaN  \n",
       "\n",
       "[15221 rows x 10 columns]"
      ]
     },
     "execution_count": 3,
     "metadata": {},
     "output_type": "execute_result"
    }
   ],
   "source": [
    "df= pd.read_csv('animes.csv')\n",
    "df"
   ]
  },
  {
   "cell_type": "code",
   "execution_count": 4,
   "metadata": {
    "scrolled": false
   },
   "outputs": [
    {
     "data": {
      "text/html": [
       "<div>\n",
       "<style scoped>\n",
       "    .dataframe tbody tr th:only-of-type {\n",
       "        vertical-align: middle;\n",
       "    }\n",
       "\n",
       "    .dataframe tbody tr th {\n",
       "        vertical-align: top;\n",
       "    }\n",
       "\n",
       "    .dataframe thead th {\n",
       "        text-align: right;\n",
       "    }\n",
       "</style>\n",
       "<table border=\"1\" class=\"dataframe\">\n",
       "  <thead>\n",
       "    <tr style=\"text-align: right;\">\n",
       "      <th></th>\n",
       "      <th>anime_id</th>\n",
       "      <th>title</th>\n",
       "      <th>genres</th>\n",
       "      <th>media</th>\n",
       "      <th>episodes</th>\n",
       "      <th>rating</th>\n",
       "      <th>members</th>\n",
       "      <th>start_date</th>\n",
       "      <th>season</th>\n",
       "      <th>source</th>\n",
       "    </tr>\n",
       "  </thead>\n",
       "  <tbody>\n",
       "    <tr>\n",
       "      <th>0</th>\n",
       "      <td>1</td>\n",
       "      <td>Cowboy Bebop</td>\n",
       "      <td>Action,Adventure,Comedy,Drama,Sci-Fi,Space</td>\n",
       "      <td>tv</td>\n",
       "      <td>26</td>\n",
       "      <td>8.77</td>\n",
       "      <td>1324054.0</td>\n",
       "      <td>1998/4/3</td>\n",
       "      <td>spring_1998</td>\n",
       "      <td>original</td>\n",
       "    </tr>\n",
       "    <tr>\n",
       "      <th>1</th>\n",
       "      <td>5</td>\n",
       "      <td>Cowboy Bebop: Tengoku no Tobira</td>\n",
       "      <td>Action,Drama,Mystery,Sci-Fi,Space</td>\n",
       "      <td>movie</td>\n",
       "      <td>1</td>\n",
       "      <td>8.39</td>\n",
       "      <td>284827.0</td>\n",
       "      <td>2001/9/1</td>\n",
       "      <td>summer_2001</td>\n",
       "      <td>original</td>\n",
       "    </tr>\n",
       "    <tr>\n",
       "      <th>2</th>\n",
       "      <td>6</td>\n",
       "      <td>Trigun</td>\n",
       "      <td>Action,Sci-Fi,Adventure,Comedy,Drama,Shounen</td>\n",
       "      <td>tv</td>\n",
       "      <td>26</td>\n",
       "      <td>8.23</td>\n",
       "      <td>578887.0</td>\n",
       "      <td>1998/4/1</td>\n",
       "      <td>spring_1998</td>\n",
       "      <td>manga</td>\n",
       "    </tr>\n",
       "    <tr>\n",
       "      <th>3</th>\n",
       "      <td>7</td>\n",
       "      <td>Witch Hunter Robin</td>\n",
       "      <td>Action,Mystery,Police,Supernatural,Drama,Magic</td>\n",
       "      <td>tv</td>\n",
       "      <td>26</td>\n",
       "      <td>7.27</td>\n",
       "      <td>96487.0</td>\n",
       "      <td>2002/7/2</td>\n",
       "      <td>summer_2002</td>\n",
       "      <td>original</td>\n",
       "    </tr>\n",
       "    <tr>\n",
       "      <th>4</th>\n",
       "      <td>8</td>\n",
       "      <td>Bouken Ou Beet</td>\n",
       "      <td>Adventure,Fantasy,Shounen,Supernatural</td>\n",
       "      <td>tv</td>\n",
       "      <td>52</td>\n",
       "      <td>6.97</td>\n",
       "      <td>13450.0</td>\n",
       "      <td>2004/9/30</td>\n",
       "      <td>fall_2004</td>\n",
       "      <td>manga</td>\n",
       "    </tr>\n",
       "    <tr>\n",
       "      <th>5</th>\n",
       "      <td>15</td>\n",
       "      <td>Eyeshield 21</td>\n",
       "      <td>Action,Sports,Comedy,Shounen</td>\n",
       "      <td>tv</td>\n",
       "      <td>145</td>\n",
       "      <td>7.94</td>\n",
       "      <td>152647.0</td>\n",
       "      <td>2005/4/6</td>\n",
       "      <td>spring_2005</td>\n",
       "      <td>manga</td>\n",
       "    </tr>\n",
       "    <tr>\n",
       "      <th>6</th>\n",
       "      <td>16</td>\n",
       "      <td>Hachimitsu to Clover</td>\n",
       "      <td>Comedy,Drama,Josei,Romance,Slice of Life</td>\n",
       "      <td>tv</td>\n",
       "      <td>24</td>\n",
       "      <td>8.05</td>\n",
       "      <td>220209.0</td>\n",
       "      <td>2005/4/15</td>\n",
       "      <td>spring_2005</td>\n",
       "      <td>manga</td>\n",
       "    </tr>\n",
       "    <tr>\n",
       "      <th>7</th>\n",
       "      <td>17</td>\n",
       "      <td>Hungry Heart: Wild Striker</td>\n",
       "      <td>Slice of Life,Comedy,Sports,Shounen</td>\n",
       "      <td>tv</td>\n",
       "      <td>52</td>\n",
       "      <td>7.58</td>\n",
       "      <td>20934.0</td>\n",
       "      <td>2002/9/11</td>\n",
       "      <td>fall_2002</td>\n",
       "      <td>manga</td>\n",
       "    </tr>\n",
       "    <tr>\n",
       "      <th>8</th>\n",
       "      <td>18</td>\n",
       "      <td>Initial D Fourth Stage</td>\n",
       "      <td>Action,Cars,Sports,Drama,Seinen</td>\n",
       "      <td>tv</td>\n",
       "      <td>24</td>\n",
       "      <td>8.14</td>\n",
       "      <td>124265.0</td>\n",
       "      <td>2004/4/17</td>\n",
       "      <td>spring_2004</td>\n",
       "      <td>manga</td>\n",
       "    </tr>\n",
       "    <tr>\n",
       "      <th>9</th>\n",
       "      <td>19</td>\n",
       "      <td>Monster</td>\n",
       "      <td>Drama,Horror,Mystery,Police,Psychological,Sein...</td>\n",
       "      <td>tv</td>\n",
       "      <td>74</td>\n",
       "      <td>8.77</td>\n",
       "      <td>662260.0</td>\n",
       "      <td>2004/4/7</td>\n",
       "      <td>spring_2004</td>\n",
       "      <td>manga</td>\n",
       "    </tr>\n",
       "    <tr>\n",
       "      <th>10</th>\n",
       "      <td>20</td>\n",
       "      <td>Naruto</td>\n",
       "      <td>Action,Adventure,Comedy,Super Power,Martial Ar...</td>\n",
       "      <td>tv</td>\n",
       "      <td>220</td>\n",
       "      <td>7.92</td>\n",
       "      <td>1986735.0</td>\n",
       "      <td>2002/10/3</td>\n",
       "      <td>fall_2002</td>\n",
       "      <td>manga</td>\n",
       "    </tr>\n",
       "  </tbody>\n",
       "</table>\n",
       "</div>"
      ],
      "text/plain": [
       "    anime_id                            title  \\\n",
       "0          1                     Cowboy Bebop   \n",
       "1          5  Cowboy Bebop: Tengoku no Tobira   \n",
       "2          6                           Trigun   \n",
       "3          7               Witch Hunter Robin   \n",
       "4          8                   Bouken Ou Beet   \n",
       "5         15                     Eyeshield 21   \n",
       "6         16             Hachimitsu to Clover   \n",
       "7         17       Hungry Heart: Wild Striker   \n",
       "8         18           Initial D Fourth Stage   \n",
       "9         19                          Monster   \n",
       "10        20                           Naruto   \n",
       "\n",
       "                                               genres  media  episodes  \\\n",
       "0          Action,Adventure,Comedy,Drama,Sci-Fi,Space     tv        26   \n",
       "1                   Action,Drama,Mystery,Sci-Fi,Space  movie         1   \n",
       "2        Action,Sci-Fi,Adventure,Comedy,Drama,Shounen     tv        26   \n",
       "3      Action,Mystery,Police,Supernatural,Drama,Magic     tv        26   \n",
       "4              Adventure,Fantasy,Shounen,Supernatural     tv        52   \n",
       "5                        Action,Sports,Comedy,Shounen     tv       145   \n",
       "6            Comedy,Drama,Josei,Romance,Slice of Life     tv        24   \n",
       "7                 Slice of Life,Comedy,Sports,Shounen     tv        52   \n",
       "8                     Action,Cars,Sports,Drama,Seinen     tv        24   \n",
       "9   Drama,Horror,Mystery,Police,Psychological,Sein...     tv        74   \n",
       "10  Action,Adventure,Comedy,Super Power,Martial Ar...     tv       220   \n",
       "\n",
       "    rating    members start_date       season    source  \n",
       "0     8.77  1324054.0   1998/4/3  spring_1998  original  \n",
       "1     8.39   284827.0   2001/9/1  summer_2001  original  \n",
       "2     8.23   578887.0   1998/4/1  spring_1998     manga  \n",
       "3     7.27    96487.0   2002/7/2  summer_2002  original  \n",
       "4     6.97    13450.0  2004/9/30    fall_2004     manga  \n",
       "5     7.94   152647.0   2005/4/6  spring_2005     manga  \n",
       "6     8.05   220209.0  2005/4/15  spring_2005     manga  \n",
       "7     7.58    20934.0  2002/9/11    fall_2002     manga  \n",
       "8     8.14   124265.0  2004/4/17  spring_2004     manga  \n",
       "9     8.77   662260.0   2004/4/7  spring_2004     manga  \n",
       "10    7.92  1986735.0  2002/10/3    fall_2002     manga  "
      ]
     },
     "execution_count": 4,
     "metadata": {},
     "output_type": "execute_result"
    }
   ],
   "source": [
    "df.head(11)"
   ]
  },
  {
   "cell_type": "markdown",
   "metadata": {},
   "source": [
    "Checks for missing values"
   ]
  },
  {
   "cell_type": "code",
   "execution_count": 5,
   "metadata": {},
   "outputs": [
    {
     "data": {
      "text/plain": [
       "<bound method DataFrame.sum of        anime_id  title  genres  media  episodes  rating  members  start_date  \\\n",
       "0         False  False   False  False     False   False    False       False   \n",
       "1         False  False   False  False     False   False    False       False   \n",
       "2         False  False   False  False     False   False    False       False   \n",
       "3         False  False   False  False     False   False    False       False   \n",
       "4         False  False   False  False     False   False    False       False   \n",
       "...         ...    ...     ...    ...       ...     ...      ...         ...   \n",
       "15216     False  False   False  False     False   False    False       False   \n",
       "15217     False  False   False  False     False   False    False       False   \n",
       "15218     False  False   False  False     False    True    False       False   \n",
       "15219     False  False   False  False     False    True    False       False   \n",
       "15220     False  False   False  False     False    True    False       False   \n",
       "\n",
       "       season  source  \n",
       "0       False   False  \n",
       "1       False   False  \n",
       "2       False   False  \n",
       "3       False   False  \n",
       "4       False   False  \n",
       "...       ...     ...  \n",
       "15216   False   False  \n",
       "15217   False   False  \n",
       "15218   False    True  \n",
       "15219   False    True  \n",
       "15220   False    True  \n",
       "\n",
       "[15221 rows x 10 columns]>"
      ]
     },
     "execution_count": 5,
     "metadata": {},
     "output_type": "execute_result"
    }
   ],
   "source": [
    "df.isna().sum"
   ]
  },
  {
   "cell_type": "code",
   "execution_count": 6,
   "metadata": {},
   "outputs": [
    {
     "name": "stdout",
     "output_type": "stream",
     "text": [
      "<class 'pandas.core.frame.DataFrame'>\n",
      "RangeIndex: 15221 entries, 0 to 15220\n",
      "Data columns (total 10 columns):\n",
      " #   Column      Non-Null Count  Dtype  \n",
      "---  ------      --------------  -----  \n",
      " 0   anime_id    15221 non-null  int64  \n",
      " 1   title       15221 non-null  object \n",
      " 2   genres      15218 non-null  object \n",
      " 3   media       15221 non-null  object \n",
      " 4   episodes    15221 non-null  int64  \n",
      " 5   rating      11876 non-null  float64\n",
      " 6   members     15205 non-null  float64\n",
      " 7   start_date  15221 non-null  object \n",
      " 8   season      15221 non-null  object \n",
      " 9   source      12294 non-null  object \n",
      "dtypes: float64(2), int64(2), object(6)\n",
      "memory usage: 1.2+ MB\n"
     ]
    }
   ],
   "source": [
    "df.info()"
   ]
  },
  {
   "cell_type": "code",
   "execution_count": 7,
   "metadata": {},
   "outputs": [
    {
     "data": {
      "text/plain": [
       "(15221, 10)"
      ]
     },
     "execution_count": 7,
     "metadata": {},
     "output_type": "execute_result"
    }
   ],
   "source": [
    "df.shape\n",
    "#10 columns and 15221 rows"
   ]
  },
  {
   "cell_type": "code",
   "execution_count": 8,
   "metadata": {},
   "outputs": [
    {
     "data": {
      "text/plain": [
       "Index(['anime_id', 'title', 'genres', 'media', 'episodes', 'rating', 'members',\n",
       "       'start_date', 'season', 'source'],\n",
       "      dtype='object')"
      ]
     },
     "execution_count": 8,
     "metadata": {},
     "output_type": "execute_result"
    }
   ],
   "source": [
    "df.columns"
   ]
  },
  {
   "cell_type": "code",
   "execution_count": 9,
   "metadata": {},
   "outputs": [
    {
     "data": {
      "text/plain": [
       "10"
      ]
     },
     "execution_count": 9,
     "metadata": {},
     "output_type": "execute_result"
    }
   ],
   "source": [
    "len(df.columns)"
   ]
  },
  {
   "cell_type": "code",
   "execution_count": 10,
   "metadata": {},
   "outputs": [
    {
     "data": {
      "text/html": [
       "<div>\n",
       "<style scoped>\n",
       "    .dataframe tbody tr th:only-of-type {\n",
       "        vertical-align: middle;\n",
       "    }\n",
       "\n",
       "    .dataframe tbody tr th {\n",
       "        vertical-align: top;\n",
       "    }\n",
       "\n",
       "    .dataframe thead th {\n",
       "        text-align: right;\n",
       "    }\n",
       "</style>\n",
       "<table border=\"1\" class=\"dataframe\">\n",
       "  <thead>\n",
       "    <tr style=\"text-align: right;\">\n",
       "      <th></th>\n",
       "      <th>anime_id</th>\n",
       "      <th>episodes</th>\n",
       "      <th>rating</th>\n",
       "      <th>members</th>\n",
       "    </tr>\n",
       "  </thead>\n",
       "  <tbody>\n",
       "    <tr>\n",
       "      <th>count</th>\n",
       "      <td>15221.000000</td>\n",
       "      <td>15221.000000</td>\n",
       "      <td>11876.000000</td>\n",
       "      <td>1.520500e+04</td>\n",
       "    </tr>\n",
       "    <tr>\n",
       "      <th>mean</th>\n",
       "      <td>19809.920307</td>\n",
       "      <td>12.247290</td>\n",
       "      <td>6.541579</td>\n",
       "      <td>4.198752e+04</td>\n",
       "    </tr>\n",
       "    <tr>\n",
       "      <th>std</th>\n",
       "      <td>14666.072993</td>\n",
       "      <td>49.837976</td>\n",
       "      <td>0.890091</td>\n",
       "      <td>1.429566e+05</td>\n",
       "    </tr>\n",
       "    <tr>\n",
       "      <th>min</th>\n",
       "      <td>1.000000</td>\n",
       "      <td>0.000000</td>\n",
       "      <td>0.000000</td>\n",
       "      <td>1.600000e+01</td>\n",
       "    </tr>\n",
       "    <tr>\n",
       "      <th>25%</th>\n",
       "      <td>4841.000000</td>\n",
       "      <td>1.000000</td>\n",
       "      <td>5.990000</td>\n",
       "      <td>5.250000e+02</td>\n",
       "    </tr>\n",
       "    <tr>\n",
       "      <th>50%</th>\n",
       "      <td>18691.000000</td>\n",
       "      <td>2.000000</td>\n",
       "      <td>6.540000</td>\n",
       "      <td>3.106000e+03</td>\n",
       "    </tr>\n",
       "    <tr>\n",
       "      <th>75%</th>\n",
       "      <td>34699.000000</td>\n",
       "      <td>12.000000</td>\n",
       "      <td>7.160000</td>\n",
       "      <td>1.842100e+04</td>\n",
       "    </tr>\n",
       "    <tr>\n",
       "      <th>max</th>\n",
       "      <td>42400.000000</td>\n",
       "      <td>3057.000000</td>\n",
       "      <td>9.180000</td>\n",
       "      <td>2.780502e+06</td>\n",
       "    </tr>\n",
       "  </tbody>\n",
       "</table>\n",
       "</div>"
      ],
      "text/plain": [
       "           anime_id      episodes        rating       members\n",
       "count  15221.000000  15221.000000  11876.000000  1.520500e+04\n",
       "mean   19809.920307     12.247290      6.541579  4.198752e+04\n",
       "std    14666.072993     49.837976      0.890091  1.429566e+05\n",
       "min        1.000000      0.000000      0.000000  1.600000e+01\n",
       "25%     4841.000000      1.000000      5.990000  5.250000e+02\n",
       "50%    18691.000000      2.000000      6.540000  3.106000e+03\n",
       "75%    34699.000000     12.000000      7.160000  1.842100e+04\n",
       "max    42400.000000   3057.000000      9.180000  2.780502e+06"
      ]
     },
     "execution_count": 10,
     "metadata": {},
     "output_type": "execute_result"
    }
   ],
   "source": [
    "df.describe()"
   ]
  },
  {
   "cell_type": "markdown",
   "metadata": {},
   "source": [
    "Top 10 popular genres by rating"
   ]
  },
  {
   "cell_type": "code",
   "execution_count": 11,
   "metadata": {},
   "outputs": [
    {
     "data": {
      "text/plain": [
       "genres\n",
       "Hentai                  940\n",
       "Music                   496\n",
       "Comedy                  317\n",
       "Slice of Life,Comedy    101\n",
       "Slice of Life           100\n",
       "Fantasy                  91\n",
       "Comedy,Parody            65\n",
       "Drama                    60\n",
       "Comedy,Slice of Life     59\n",
       "Adventure,Fantasy        57\n",
       "Name: rating, dtype: int64"
      ]
     },
     "execution_count": 11,
     "metadata": {},
     "output_type": "execute_result"
    }
   ],
   "source": [
    "top_10_popular_genres_anime=df.groupby(\"genres\").count().sort_values(by='rating', ascending=False)[\"rating\"][:10]\n",
    "top_10_popular_genres_anime"
   ]
  },
  {
   "cell_type": "code",
   "execution_count": 12,
   "metadata": {},
   "outputs": [
    {
     "data": {
      "image/png": "[encoded data removed]",
      "text/plain": [
       "<Figure size 432x288 with 1 Axes>"
      ]
     },
     "metadata": {},
     "output_type": "display_data"
    }
   ],
   "source": [
    "top_10_popular_genres_anime.plot.barh()\n",
    "plt.show()"
   ]
  },
  {
   "cell_type": "markdown",
   "metadata": {},
   "source": [
    "Top 5 rating title anime"
   ]
  },
  {
   "cell_type": "code",
   "execution_count": 13,
   "metadata": {},
   "outputs": [
    {
     "data": {
      "text/html": [
       "<div>\n",
       "<style scoped>\n",
       "    .dataframe tbody tr th:only-of-type {\n",
       "        vertical-align: middle;\n",
       "    }\n",
       "\n",
       "    .dataframe tbody tr th {\n",
       "        vertical-align: top;\n",
       "    }\n",
       "\n",
       "    .dataframe thead th {\n",
       "        text-align: right;\n",
       "    }\n",
       "</style>\n",
       "<table border=\"1\" class=\"dataframe\">\n",
       "  <thead>\n",
       "    <tr style=\"text-align: right;\">\n",
       "      <th></th>\n",
       "      <th>rating</th>\n",
       "      <th>title</th>\n",
       "    </tr>\n",
       "  </thead>\n",
       "  <tbody>\n",
       "    <tr>\n",
       "      <th>3921</th>\n",
       "      <td>9.18</td>\n",
       "      <td>Fullmetal Alchemist: Brotherhood</td>\n",
       "    </tr>\n",
       "    <tr>\n",
       "      <th>5500</th>\n",
       "      <td>9.11</td>\n",
       "      <td>Steins;Gate</td>\n",
       "    </tr>\n",
       "    <tr>\n",
       "      <th>13505</th>\n",
       "      <td>9.11</td>\n",
       "      <td>Shingeki no Kyojin Season 3 Part 2</td>\n",
       "    </tr>\n",
       "    <tr>\n",
       "      <th>9273</th>\n",
       "      <td>9.09</td>\n",
       "      <td>Gintama・ゑｽｰ</td>\n",
       "    </tr>\n",
       "    <tr>\n",
       "      <th>6237</th>\n",
       "      <td>9.08</td>\n",
       "      <td>Hunter x Hunter (2011)</td>\n",
       "    </tr>\n",
       "  </tbody>\n",
       "</table>\n",
       "</div>"
      ],
      "text/plain": [
       "       rating                               title\n",
       "3921     9.18    Fullmetal Alchemist: Brotherhood\n",
       "5500     9.11                         Steins;Gate\n",
       "13505    9.11  Shingeki no Kyojin Season 3 Part 2\n",
       "9273     9.09                         Gintama・ゑｽｰ\n",
       "6237     9.08              Hunter x Hunter (2011)"
      ]
     },
     "execution_count": 13,
     "metadata": {},
     "output_type": "execute_result"
    }
   ],
   "source": [
    "top_5_rating_anime=df[[\"rating\",\"title\"]].sort_values(by=\"rating\",ascending=False)[:5]\n",
    "top_5_rating_anime"
   ]
  },
  {
   "cell_type": "code",
   "execution_count": 14,
   "metadata": {},
   "outputs": [
    {
     "data": {
      "text/plain": [
       "<function matplotlib.pyplot.show(*args, **kw)>"
      ]
     },
     "execution_count": 14,
     "metadata": {},
     "output_type": "execute_result"
    },
    {
     "data": {
      "text/plain": [
       "<Figure size 96x72 with 0 Axes>"
      ]
     },
     "metadata": {},
     "output_type": "display_data"
    },
    {
     "name": "stderr",
     "output_type": "stream",
     "text": [
      "C:\\Users\\yafit\\anaconda3\\lib\\site-packages\\matplotlib\\backends\\backend_agg.py:214: RuntimeWarning: Glyph 12539 missing from current font.\n",
      "  font.set_text(s, 0.0, flags=flags)\n",
      "C:\\Users\\yafit\\anaconda3\\lib\\site-packages\\matplotlib\\backends\\backend_agg.py:214: RuntimeWarning: Glyph 12433 missing from current font.\n",
      "  font.set_text(s, 0.0, flags=flags)\n",
      "C:\\Users\\yafit\\anaconda3\\lib\\site-packages\\matplotlib\\backends\\backend_agg.py:214: RuntimeWarning: Glyph 65405 missing from current font.\n",
      "  font.set_text(s, 0.0, flags=flags)\n",
      "C:\\Users\\yafit\\anaconda3\\lib\\site-packages\\matplotlib\\backends\\backend_agg.py:214: RuntimeWarning: Glyph 65392 missing from current font.\n",
      "  font.set_text(s, 0.0, flags=flags)\n",
      "C:\\Users\\yafit\\anaconda3\\lib\\site-packages\\matplotlib\\backends\\backend_agg.py:183: RuntimeWarning: Glyph 12539 missing from current font.\n",
      "  font.set_text(s, 0, flags=flags)\n",
      "C:\\Users\\yafit\\anaconda3\\lib\\site-packages\\matplotlib\\backends\\backend_agg.py:183: RuntimeWarning: Glyph 12433 missing from current font.\n",
      "  font.set_text(s, 0, flags=flags)\n",
      "C:\\Users\\yafit\\anaconda3\\lib\\site-packages\\matplotlib\\backends\\backend_agg.py:183: RuntimeWarning: Glyph 65405 missing from current font.\n",
      "  font.set_text(s, 0, flags=flags)\n",
      "C:\\Users\\yafit\\anaconda3\\lib\\site-packages\\matplotlib\\backends\\backend_agg.py:183: RuntimeWarning: Glyph 65392 missing from current font.\n",
      "  font.set_text(s, 0, flags=flags)\n"
     ]
    },
    {
     "data": {
      "image/png": "[encoded data removed]",
      "text/plain": [
       "<Figure size 1080x360 with 1 Axes>"
      ]
     },
     "metadata": {},
     "output_type": "display_data"
    }
   ],
   "source": [
    "\n",
    "plt.figure(figsize=(8, 6), dpi=12)\n",
    "f = plt.figure()\n",
    "f.set_figwidth(15)\n",
    "f.set_figheight(5)\n",
    "sns.barplot(y=\"rating\", x=\"title\",data=top_5_rating_anime)\n",
    "plt.title(\"top_5_rating_anime\")\n",
    "plt.show"
   ]
  },
  {
   "cell_type": "markdown",
   "metadata": {},
   "source": [
    "Top 5 anime with most members"
   ]
  },
  {
   "cell_type": "code",
   "execution_count": 15,
   "metadata": {},
   "outputs": [
    {
     "data": {
      "text/html": [
       "<div>\n",
       "<style scoped>\n",
       "    .dataframe tbody tr th:only-of-type {\n",
       "        vertical-align: middle;\n",
       "    }\n",
       "\n",
       "    .dataframe tbody tr th {\n",
       "        vertical-align: top;\n",
       "    }\n",
       "\n",
       "    .dataframe thead th {\n",
       "        text-align: right;\n",
       "    }\n",
       "</style>\n",
       "<table border=\"1\" class=\"dataframe\">\n",
       "  <thead>\n",
       "    <tr style=\"text-align: right;\">\n",
       "      <th></th>\n",
       "      <th>members</th>\n",
       "      <th>title</th>\n",
       "      <th>season</th>\n",
       "    </tr>\n",
       "  </thead>\n",
       "  <tbody>\n",
       "    <tr>\n",
       "      <th>1385</th>\n",
       "      <td>2780502.0</td>\n",
       "      <td>Death Note</td>\n",
       "      <td>fall_2006</td>\n",
       "    </tr>\n",
       "    <tr>\n",
       "      <th>7166</th>\n",
       "      <td>2727137.0</td>\n",
       "      <td>Shingeki no Kyojin</td>\n",
       "      <td>spring_2013</td>\n",
       "    </tr>\n",
       "    <tr>\n",
       "      <th>3921</th>\n",
       "      <td>2372958.0</td>\n",
       "      <td>Fullmetal Alchemist: Brotherhood</td>\n",
       "      <td>spring_2009</td>\n",
       "    </tr>\n",
       "    <tr>\n",
       "      <th>6368</th>\n",
       "      <td>2331007.0</td>\n",
       "      <td>Sword Art Online</td>\n",
       "      <td>summer_2012</td>\n",
       "    </tr>\n",
       "    <tr>\n",
       "      <th>9620</th>\n",
       "      <td>2266752.0</td>\n",
       "      <td>One Punch Man</td>\n",
       "      <td>fall_2015</td>\n",
       "    </tr>\n",
       "  </tbody>\n",
       "</table>\n",
       "</div>"
      ],
      "text/plain": [
       "        members                             title       season\n",
       "1385  2780502.0                        Death Note    fall_2006\n",
       "7166  2727137.0                Shingeki no Kyojin  spring_2013\n",
       "3921  2372958.0  Fullmetal Alchemist: Brotherhood  spring_2009\n",
       "6368  2331007.0                  Sword Art Online  summer_2012\n",
       "9620  2266752.0                     One Punch Man    fall_2015"
      ]
     },
     "execution_count": 15,
     "metadata": {},
     "output_type": "execute_result"
    }
   ],
   "source": [
    "top_5_members_anime=df[[\"members\",\"title\",\"season\"]].sort_values(by=\"members\",ascending=False)[:5]\n",
    "top_5_members_anime"
   ]
  },
  {
   "cell_type": "code",
   "execution_count": 16,
   "metadata": {},
   "outputs": [
    {
     "data": {
      "image/png": "[encoded data removed]",
      "text/plain": [
       "<Figure size 720x360 with 1 Axes>"
      ]
     },
     "metadata": {},
     "output_type": "display_data"
    }
   ],
   "source": [
    "plt.figure(figsize=(10,5))\n",
    "sns.barplot(x=\"members\",y=\"title\",data=top_5_members_anime)\n",
    "plt.title(\"top_5_members_anime\")\n",
    "plt.show()"
   ]
  },
  {
   "cell_type": "markdown",
   "metadata": {},
   "source": [
    "Top 5 highest rated sources "
   ]
  },
  {
   "cell_type": "code",
   "execution_count": 17,
   "metadata": {},
   "outputs": [
    {
     "data": {
      "text/plain": [
       "source\n",
       "manga           3383\n",
       "original        2814\n",
       "visual_novel     968\n",
       "game             715\n",
       "light_novel      712\n",
       "Name: rating, dtype: int64"
      ]
     },
     "execution_count": 17,
     "metadata": {},
     "output_type": "execute_result"
    }
   ],
   "source": [
    "top_5_popular_source_by_rating=df.groupby(\"source\").count().sort_values(by='rating', ascending=False)[\"rating\"][:5]\n",
    "top_5_popular_source_by_rating"
   ]
  },
  {
   "cell_type": "code",
   "execution_count": 18,
   "metadata": {},
   "outputs": [
    {
     "data": {
      "image/png": "[encoded data removed]",
      "text/plain": [
       "<Figure size 432x288 with 1 Axes>"
      ]
     },
     "metadata": {},
     "output_type": "display_data"
    }
   ],
   "source": [
    "top_5_popular_source_by_rating.plot.barh()\n",
    "plt.show()"
   ]
  },
  {
   "cell_type": "markdown",
   "metadata": {},
   "source": [
    "Checks correlation between number of members and rating"
   ]
  },
  {
   "cell_type": "code",
   "execution_count": 19,
   "metadata": {},
   "outputs": [
    {
     "name": "stdout",
     "output_type": "stream",
     "text": [
      "           rating   members\n",
      "rating   1.000000  0.409289\n",
      "members  0.409289  1.000000\n"
     ]
    }
   ],
   "source": [
    "corr=df[['rating','members']].corr()\n",
    "print(corr)"
   ]
  },
  {
   "cell_type": "code",
   "execution_count": 32,
   "metadata": {},
   "outputs": [
    {
     "data": {
      "text/plain": [
       "<matplotlib.axes._subplots.AxesSubplot at 0x1fc0081a5b0>"
      ]
     },
     "execution_count": 32,
     "metadata": {},
     "output_type": "execute_result"
    },
    {
     "data": {
      "image/png": "[encoded data removed]",
      "text/plain": [
       "<Figure size 432x288 with 2 Axes>"
      ]
     },
     "metadata": {},
     "output_type": "display_data"
    }
   ],
   "source": [
    "sns.heatmap(data=corr, annot=True,cmap=\"Greens\" )"
   ]
  },
  {
   "cell_type": "markdown",
   "metadata": {},
   "source": [
    "Find the most frequent genres, regardless of ranking"
   ]
  },
  {
   "cell_type": "code",
   "execution_count": 21,
   "metadata": {},
   "outputs": [
    {
     "data": {
      "text/html": [
       "<div>\n",
       "<style scoped>\n",
       "    .dataframe tbody tr th:only-of-type {\n",
       "        vertical-align: middle;\n",
       "    }\n",
       "\n",
       "    .dataframe tbody tr th {\n",
       "        vertical-align: top;\n",
       "    }\n",
       "\n",
       "    .dataframe thead th {\n",
       "        text-align: right;\n",
       "    }\n",
       "</style>\n",
       "<table border=\"1\" class=\"dataframe\">\n",
       "  <thead>\n",
       "    <tr style=\"text-align: right;\">\n",
       "      <th></th>\n",
       "      <th>0</th>\n",
       "      <th>1</th>\n",
       "      <th>2</th>\n",
       "      <th>3</th>\n",
       "      <th>4</th>\n",
       "      <th>5</th>\n",
       "      <th>6</th>\n",
       "      <th>7</th>\n",
       "      <th>8</th>\n",
       "      <th>9</th>\n",
       "      <th>10</th>\n",
       "      <th>11</th>\n",
       "      <th>12</th>\n",
       "    </tr>\n",
       "  </thead>\n",
       "  <tbody>\n",
       "    <tr>\n",
       "      <th>0</th>\n",
       "      <td>Action</td>\n",
       "      <td>Adventure</td>\n",
       "      <td>Comedy</td>\n",
       "      <td>Drama</td>\n",
       "      <td>Sci-Fi</td>\n",
       "      <td>Space</td>\n",
       "      <td>&lt;NA&gt;</td>\n",
       "      <td>&lt;NA&gt;</td>\n",
       "      <td>&lt;NA&gt;</td>\n",
       "      <td>&lt;NA&gt;</td>\n",
       "      <td>&lt;NA&gt;</td>\n",
       "      <td>&lt;NA&gt;</td>\n",
       "      <td>&lt;NA&gt;</td>\n",
       "    </tr>\n",
       "    <tr>\n",
       "      <th>1</th>\n",
       "      <td>Action</td>\n",
       "      <td>Drama</td>\n",
       "      <td>Mystery</td>\n",
       "      <td>Sci-Fi</td>\n",
       "      <td>Space</td>\n",
       "      <td>&lt;NA&gt;</td>\n",
       "      <td>&lt;NA&gt;</td>\n",
       "      <td>&lt;NA&gt;</td>\n",
       "      <td>&lt;NA&gt;</td>\n",
       "      <td>&lt;NA&gt;</td>\n",
       "      <td>&lt;NA&gt;</td>\n",
       "      <td>&lt;NA&gt;</td>\n",
       "      <td>&lt;NA&gt;</td>\n",
       "    </tr>\n",
       "    <tr>\n",
       "      <th>2</th>\n",
       "      <td>Action</td>\n",
       "      <td>Sci-Fi</td>\n",
       "      <td>Adventure</td>\n",
       "      <td>Comedy</td>\n",
       "      <td>Drama</td>\n",
       "      <td>Shounen</td>\n",
       "      <td>&lt;NA&gt;</td>\n",
       "      <td>&lt;NA&gt;</td>\n",
       "      <td>&lt;NA&gt;</td>\n",
       "      <td>&lt;NA&gt;</td>\n",
       "      <td>&lt;NA&gt;</td>\n",
       "      <td>&lt;NA&gt;</td>\n",
       "      <td>&lt;NA&gt;</td>\n",
       "    </tr>\n",
       "    <tr>\n",
       "      <th>3</th>\n",
       "      <td>Action</td>\n",
       "      <td>Mystery</td>\n",
       "      <td>Police</td>\n",
       "      <td>Supernatural</td>\n",
       "      <td>Drama</td>\n",
       "      <td>Magic</td>\n",
       "      <td>&lt;NA&gt;</td>\n",
       "      <td>&lt;NA&gt;</td>\n",
       "      <td>&lt;NA&gt;</td>\n",
       "      <td>&lt;NA&gt;</td>\n",
       "      <td>&lt;NA&gt;</td>\n",
       "      <td>&lt;NA&gt;</td>\n",
       "      <td>&lt;NA&gt;</td>\n",
       "    </tr>\n",
       "    <tr>\n",
       "      <th>4</th>\n",
       "      <td>Adventure</td>\n",
       "      <td>Fantasy</td>\n",
       "      <td>Shounen</td>\n",
       "      <td>Supernatural</td>\n",
       "      <td>&lt;NA&gt;</td>\n",
       "      <td>&lt;NA&gt;</td>\n",
       "      <td>&lt;NA&gt;</td>\n",
       "      <td>&lt;NA&gt;</td>\n",
       "      <td>&lt;NA&gt;</td>\n",
       "      <td>&lt;NA&gt;</td>\n",
       "      <td>&lt;NA&gt;</td>\n",
       "      <td>&lt;NA&gt;</td>\n",
       "      <td>&lt;NA&gt;</td>\n",
       "    </tr>\n",
       "    <tr>\n",
       "      <th>...</th>\n",
       "      <td>...</td>\n",
       "      <td>...</td>\n",
       "      <td>...</td>\n",
       "      <td>...</td>\n",
       "      <td>...</td>\n",
       "      <td>...</td>\n",
       "      <td>...</td>\n",
       "      <td>...</td>\n",
       "      <td>...</td>\n",
       "      <td>...</td>\n",
       "      <td>...</td>\n",
       "      <td>...</td>\n",
       "      <td>...</td>\n",
       "    </tr>\n",
       "    <tr>\n",
       "      <th>15216</th>\n",
       "      <td>Action</td>\n",
       "      <td>School</td>\n",
       "      <td>&lt;NA&gt;</td>\n",
       "      <td>&lt;NA&gt;</td>\n",
       "      <td>&lt;NA&gt;</td>\n",
       "      <td>&lt;NA&gt;</td>\n",
       "      <td>&lt;NA&gt;</td>\n",
       "      <td>&lt;NA&gt;</td>\n",
       "      <td>&lt;NA&gt;</td>\n",
       "      <td>&lt;NA&gt;</td>\n",
       "      <td>&lt;NA&gt;</td>\n",
       "      <td>&lt;NA&gt;</td>\n",
       "      <td>&lt;NA&gt;</td>\n",
       "    </tr>\n",
       "    <tr>\n",
       "      <th>15217</th>\n",
       "      <td>Action</td>\n",
       "      <td>Comedy</td>\n",
       "      <td>School</td>\n",
       "      <td>Sports</td>\n",
       "      <td>&lt;NA&gt;</td>\n",
       "      <td>&lt;NA&gt;</td>\n",
       "      <td>&lt;NA&gt;</td>\n",
       "      <td>&lt;NA&gt;</td>\n",
       "      <td>&lt;NA&gt;</td>\n",
       "      <td>&lt;NA&gt;</td>\n",
       "      <td>&lt;NA&gt;</td>\n",
       "      <td>&lt;NA&gt;</td>\n",
       "      <td>&lt;NA&gt;</td>\n",
       "    </tr>\n",
       "    <tr>\n",
       "      <th>15218</th>\n",
       "      <td>Comedy</td>\n",
       "      <td>Historical</td>\n",
       "      <td>Samurai</td>\n",
       "      <td>&lt;NA&gt;</td>\n",
       "      <td>&lt;NA&gt;</td>\n",
       "      <td>&lt;NA&gt;</td>\n",
       "      <td>&lt;NA&gt;</td>\n",
       "      <td>&lt;NA&gt;</td>\n",
       "      <td>&lt;NA&gt;</td>\n",
       "      <td>&lt;NA&gt;</td>\n",
       "      <td>&lt;NA&gt;</td>\n",
       "      <td>&lt;NA&gt;</td>\n",
       "      <td>&lt;NA&gt;</td>\n",
       "    </tr>\n",
       "    <tr>\n",
       "      <th>15219</th>\n",
       "      <td>Historical</td>\n",
       "      <td>Samurai</td>\n",
       "      <td>&lt;NA&gt;</td>\n",
       "      <td>&lt;NA&gt;</td>\n",
       "      <td>&lt;NA&gt;</td>\n",
       "      <td>&lt;NA&gt;</td>\n",
       "      <td>&lt;NA&gt;</td>\n",
       "      <td>&lt;NA&gt;</td>\n",
       "      <td>&lt;NA&gt;</td>\n",
       "      <td>&lt;NA&gt;</td>\n",
       "      <td>&lt;NA&gt;</td>\n",
       "      <td>&lt;NA&gt;</td>\n",
       "      <td>&lt;NA&gt;</td>\n",
       "    </tr>\n",
       "    <tr>\n",
       "      <th>15220</th>\n",
       "      <td>Comedy</td>\n",
       "      <td>Historical</td>\n",
       "      <td>&lt;NA&gt;</td>\n",
       "      <td>&lt;NA&gt;</td>\n",
       "      <td>&lt;NA&gt;</td>\n",
       "      <td>&lt;NA&gt;</td>\n",
       "      <td>&lt;NA&gt;</td>\n",
       "      <td>&lt;NA&gt;</td>\n",
       "      <td>&lt;NA&gt;</td>\n",
       "      <td>&lt;NA&gt;</td>\n",
       "      <td>&lt;NA&gt;</td>\n",
       "      <td>&lt;NA&gt;</td>\n",
       "      <td>&lt;NA&gt;</td>\n",
       "    </tr>\n",
       "  </tbody>\n",
       "</table>\n",
       "<p>15221 rows × 13 columns</p>\n",
       "</div>"
      ],
      "text/plain": [
       "                0           1          2             3       4        5     6  \\\n",
       "0          Action   Adventure     Comedy         Drama  Sci-Fi    Space  <NA>   \n",
       "1          Action       Drama    Mystery        Sci-Fi   Space     <NA>  <NA>   \n",
       "2          Action      Sci-Fi  Adventure        Comedy   Drama  Shounen  <NA>   \n",
       "3          Action     Mystery     Police  Supernatural   Drama    Magic  <NA>   \n",
       "4       Adventure     Fantasy    Shounen  Supernatural    <NA>     <NA>  <NA>   \n",
       "...           ...         ...        ...           ...     ...      ...   ...   \n",
       "15216      Action      School       <NA>          <NA>    <NA>     <NA>  <NA>   \n",
       "15217      Action      Comedy     School        Sports    <NA>     <NA>  <NA>   \n",
       "15218      Comedy  Historical    Samurai          <NA>    <NA>     <NA>  <NA>   \n",
       "15219  Historical     Samurai       <NA>          <NA>    <NA>     <NA>  <NA>   \n",
       "15220      Comedy  Historical       <NA>          <NA>    <NA>     <NA>  <NA>   \n",
       "\n",
       "          7     8     9    10    11    12  \n",
       "0      <NA>  <NA>  <NA>  <NA>  <NA>  <NA>  \n",
       "1      <NA>  <NA>  <NA>  <NA>  <NA>  <NA>  \n",
       "2      <NA>  <NA>  <NA>  <NA>  <NA>  <NA>  \n",
       "3      <NA>  <NA>  <NA>  <NA>  <NA>  <NA>  \n",
       "4      <NA>  <NA>  <NA>  <NA>  <NA>  <NA>  \n",
       "...     ...   ...   ...   ...   ...   ...  \n",
       "15216  <NA>  <NA>  <NA>  <NA>  <NA>  <NA>  \n",
       "15217  <NA>  <NA>  <NA>  <NA>  <NA>  <NA>  \n",
       "15218  <NA>  <NA>  <NA>  <NA>  <NA>  <NA>  \n",
       "15219  <NA>  <NA>  <NA>  <NA>  <NA>  <NA>  \n",
       "15220  <NA>  <NA>  <NA>  <NA>  <NA>  <NA>  \n",
       "\n",
       "[15221 rows x 13 columns]"
      ]
     },
     "execution_count": 21,
     "metadata": {},
     "output_type": "execute_result"
    }
   ],
   "source": [
    "Repetitive_genres= pd.Series(data= df['genres'], dtype=\"string\").str.split(pat=\",\",expand=True)\n",
    "Repetitive_genres"
   ]
  },
  {
   "cell_type": "code",
   "execution_count": 22,
   "metadata": {},
   "outputs": [
    {
     "data": {
      "text/html": [
       "<div>\n",
       "<style scoped>\n",
       "    .dataframe tbody tr th:only-of-type {\n",
       "        vertical-align: middle;\n",
       "    }\n",
       "\n",
       "    .dataframe tbody tr th {\n",
       "        vertical-align: top;\n",
       "    }\n",
       "\n",
       "    .dataframe thead th {\n",
       "        text-align: right;\n",
       "    }\n",
       "</style>\n",
       "<table border=\"1\" class=\"dataframe\">\n",
       "  <thead>\n",
       "    <tr style=\"text-align: right;\">\n",
       "      <th></th>\n",
       "      <th>0</th>\n",
       "      <th>1</th>\n",
       "      <th>2</th>\n",
       "      <th>3</th>\n",
       "      <th>4</th>\n",
       "      <th>5</th>\n",
       "      <th>6</th>\n",
       "      <th>7</th>\n",
       "      <th>8</th>\n",
       "      <th>9</th>\n",
       "      <th>10</th>\n",
       "      <th>11</th>\n",
       "      <th>12</th>\n",
       "    </tr>\n",
       "  </thead>\n",
       "  <tbody>\n",
       "    <tr>\n",
       "      <th>0</th>\n",
       "      <td>Action</td>\n",
       "      <td>Adventure</td>\n",
       "      <td>Comedy</td>\n",
       "      <td>Drama</td>\n",
       "      <td>Sci-Fi</td>\n",
       "      <td>Space</td>\n",
       "      <td>&lt;NA&gt;</td>\n",
       "      <td>&lt;NA&gt;</td>\n",
       "      <td>&lt;NA&gt;</td>\n",
       "      <td>&lt;NA&gt;</td>\n",
       "      <td>&lt;NA&gt;</td>\n",
       "      <td>&lt;NA&gt;</td>\n",
       "      <td>&lt;NA&gt;</td>\n",
       "    </tr>\n",
       "    <tr>\n",
       "      <th>1</th>\n",
       "      <td>Action</td>\n",
       "      <td>Drama</td>\n",
       "      <td>Mystery</td>\n",
       "      <td>Sci-Fi</td>\n",
       "      <td>Space</td>\n",
       "      <td>&lt;NA&gt;</td>\n",
       "      <td>&lt;NA&gt;</td>\n",
       "      <td>&lt;NA&gt;</td>\n",
       "      <td>&lt;NA&gt;</td>\n",
       "      <td>&lt;NA&gt;</td>\n",
       "      <td>&lt;NA&gt;</td>\n",
       "      <td>&lt;NA&gt;</td>\n",
       "      <td>&lt;NA&gt;</td>\n",
       "    </tr>\n",
       "    <tr>\n",
       "      <th>2</th>\n",
       "      <td>Action</td>\n",
       "      <td>Sci-Fi</td>\n",
       "      <td>Adventure</td>\n",
       "      <td>Comedy</td>\n",
       "      <td>Drama</td>\n",
       "      <td>Shounen</td>\n",
       "      <td>&lt;NA&gt;</td>\n",
       "      <td>&lt;NA&gt;</td>\n",
       "      <td>&lt;NA&gt;</td>\n",
       "      <td>&lt;NA&gt;</td>\n",
       "      <td>&lt;NA&gt;</td>\n",
       "      <td>&lt;NA&gt;</td>\n",
       "      <td>&lt;NA&gt;</td>\n",
       "    </tr>\n",
       "    <tr>\n",
       "      <th>3</th>\n",
       "      <td>Action</td>\n",
       "      <td>Mystery</td>\n",
       "      <td>Police</td>\n",
       "      <td>Supernatural</td>\n",
       "      <td>Drama</td>\n",
       "      <td>Magic</td>\n",
       "      <td>&lt;NA&gt;</td>\n",
       "      <td>&lt;NA&gt;</td>\n",
       "      <td>&lt;NA&gt;</td>\n",
       "      <td>&lt;NA&gt;</td>\n",
       "      <td>&lt;NA&gt;</td>\n",
       "      <td>&lt;NA&gt;</td>\n",
       "      <td>&lt;NA&gt;</td>\n",
       "    </tr>\n",
       "    <tr>\n",
       "      <th>4</th>\n",
       "      <td>Adventure</td>\n",
       "      <td>Fantasy</td>\n",
       "      <td>Shounen</td>\n",
       "      <td>Supernatural</td>\n",
       "      <td>&lt;NA&gt;</td>\n",
       "      <td>&lt;NA&gt;</td>\n",
       "      <td>&lt;NA&gt;</td>\n",
       "      <td>&lt;NA&gt;</td>\n",
       "      <td>&lt;NA&gt;</td>\n",
       "      <td>&lt;NA&gt;</td>\n",
       "      <td>&lt;NA&gt;</td>\n",
       "      <td>&lt;NA&gt;</td>\n",
       "      <td>&lt;NA&gt;</td>\n",
       "    </tr>\n",
       "    <tr>\n",
       "      <th>...</th>\n",
       "      <td>...</td>\n",
       "      <td>...</td>\n",
       "      <td>...</td>\n",
       "      <td>...</td>\n",
       "      <td>...</td>\n",
       "      <td>...</td>\n",
       "      <td>...</td>\n",
       "      <td>...</td>\n",
       "      <td>...</td>\n",
       "      <td>...</td>\n",
       "      <td>...</td>\n",
       "      <td>...</td>\n",
       "      <td>...</td>\n",
       "    </tr>\n",
       "    <tr>\n",
       "      <th>15216</th>\n",
       "      <td>Action</td>\n",
       "      <td>School</td>\n",
       "      <td>&lt;NA&gt;</td>\n",
       "      <td>&lt;NA&gt;</td>\n",
       "      <td>&lt;NA&gt;</td>\n",
       "      <td>&lt;NA&gt;</td>\n",
       "      <td>&lt;NA&gt;</td>\n",
       "      <td>&lt;NA&gt;</td>\n",
       "      <td>&lt;NA&gt;</td>\n",
       "      <td>&lt;NA&gt;</td>\n",
       "      <td>&lt;NA&gt;</td>\n",
       "      <td>&lt;NA&gt;</td>\n",
       "      <td>&lt;NA&gt;</td>\n",
       "    </tr>\n",
       "    <tr>\n",
       "      <th>15217</th>\n",
       "      <td>Action</td>\n",
       "      <td>Comedy</td>\n",
       "      <td>School</td>\n",
       "      <td>Sports</td>\n",
       "      <td>&lt;NA&gt;</td>\n",
       "      <td>&lt;NA&gt;</td>\n",
       "      <td>&lt;NA&gt;</td>\n",
       "      <td>&lt;NA&gt;</td>\n",
       "      <td>&lt;NA&gt;</td>\n",
       "      <td>&lt;NA&gt;</td>\n",
       "      <td>&lt;NA&gt;</td>\n",
       "      <td>&lt;NA&gt;</td>\n",
       "      <td>&lt;NA&gt;</td>\n",
       "    </tr>\n",
       "    <tr>\n",
       "      <th>15218</th>\n",
       "      <td>Comedy</td>\n",
       "      <td>Historical</td>\n",
       "      <td>Samurai</td>\n",
       "      <td>&lt;NA&gt;</td>\n",
       "      <td>&lt;NA&gt;</td>\n",
       "      <td>&lt;NA&gt;</td>\n",
       "      <td>&lt;NA&gt;</td>\n",
       "      <td>&lt;NA&gt;</td>\n",
       "      <td>&lt;NA&gt;</td>\n",
       "      <td>&lt;NA&gt;</td>\n",
       "      <td>&lt;NA&gt;</td>\n",
       "      <td>&lt;NA&gt;</td>\n",
       "      <td>&lt;NA&gt;</td>\n",
       "    </tr>\n",
       "    <tr>\n",
       "      <th>15219</th>\n",
       "      <td>Historical</td>\n",
       "      <td>Samurai</td>\n",
       "      <td>&lt;NA&gt;</td>\n",
       "      <td>&lt;NA&gt;</td>\n",
       "      <td>&lt;NA&gt;</td>\n",
       "      <td>&lt;NA&gt;</td>\n",
       "      <td>&lt;NA&gt;</td>\n",
       "      <td>&lt;NA&gt;</td>\n",
       "      <td>&lt;NA&gt;</td>\n",
       "      <td>&lt;NA&gt;</td>\n",
       "      <td>&lt;NA&gt;</td>\n",
       "      <td>&lt;NA&gt;</td>\n",
       "      <td>&lt;NA&gt;</td>\n",
       "    </tr>\n",
       "    <tr>\n",
       "      <th>15220</th>\n",
       "      <td>Comedy</td>\n",
       "      <td>Historical</td>\n",
       "      <td>&lt;NA&gt;</td>\n",
       "      <td>&lt;NA&gt;</td>\n",
       "      <td>&lt;NA&gt;</td>\n",
       "      <td>&lt;NA&gt;</td>\n",
       "      <td>&lt;NA&gt;</td>\n",
       "      <td>&lt;NA&gt;</td>\n",
       "      <td>&lt;NA&gt;</td>\n",
       "      <td>&lt;NA&gt;</td>\n",
       "      <td>&lt;NA&gt;</td>\n",
       "      <td>&lt;NA&gt;</td>\n",
       "      <td>&lt;NA&gt;</td>\n",
       "    </tr>\n",
       "  </tbody>\n",
       "</table>\n",
       "<p>15221 rows × 13 columns</p>\n",
       "</div>"
      ],
      "text/plain": [
       "                0           1          2             3       4        5     6  \\\n",
       "0          Action   Adventure     Comedy         Drama  Sci-Fi    Space  <NA>   \n",
       "1          Action       Drama    Mystery        Sci-Fi   Space     <NA>  <NA>   \n",
       "2          Action      Sci-Fi  Adventure        Comedy   Drama  Shounen  <NA>   \n",
       "3          Action     Mystery     Police  Supernatural   Drama    Magic  <NA>   \n",
       "4       Adventure     Fantasy    Shounen  Supernatural    <NA>     <NA>  <NA>   \n",
       "...           ...         ...        ...           ...     ...      ...   ...   \n",
       "15216      Action      School       <NA>          <NA>    <NA>     <NA>  <NA>   \n",
       "15217      Action      Comedy     School        Sports    <NA>     <NA>  <NA>   \n",
       "15218      Comedy  Historical    Samurai          <NA>    <NA>     <NA>  <NA>   \n",
       "15219  Historical     Samurai       <NA>          <NA>    <NA>     <NA>  <NA>   \n",
       "15220      Comedy  Historical       <NA>          <NA>    <NA>     <NA>  <NA>   \n",
       "\n",
       "          7     8     9    10    11    12  \n",
       "0      <NA>  <NA>  <NA>  <NA>  <NA>  <NA>  \n",
       "1      <NA>  <NA>  <NA>  <NA>  <NA>  <NA>  \n",
       "2      <NA>  <NA>  <NA>  <NA>  <NA>  <NA>  \n",
       "3      <NA>  <NA>  <NA>  <NA>  <NA>  <NA>  \n",
       "4      <NA>  <NA>  <NA>  <NA>  <NA>  <NA>  \n",
       "...     ...   ...   ...   ...   ...   ...  \n",
       "15216  <NA>  <NA>  <NA>  <NA>  <NA>  <NA>  \n",
       "15217  <NA>  <NA>  <NA>  <NA>  <NA>  <NA>  \n",
       "15218  <NA>  <NA>  <NA>  <NA>  <NA>  <NA>  \n",
       "15219  <NA>  <NA>  <NA>  <NA>  <NA>  <NA>  \n",
       "15220  <NA>  <NA>  <NA>  <NA>  <NA>  <NA>  \n",
       "\n",
       "[15221 rows x 13 columns]"
      ]
     },
     "execution_count": 22,
     "metadata": {},
     "output_type": "execute_result"
    }
   ],
   "source": [
    "Repetitive_genres"
   ]
  },
  {
   "cell_type": "code",
   "execution_count": 23,
   "metadata": {},
   "outputs": [
    {
     "data": {
      "text/plain": [
       "0             Action\n",
       "1          Adventure\n",
       "2             Comedy\n",
       "3              Drama\n",
       "4             Sci-Fi\n",
       "             ...    \n",
       "197836       Samurai\n",
       "197847    Historical\n",
       "197848       Samurai\n",
       "197860        Comedy\n",
       "197861    Historical\n",
       "Length: 45356, dtype: object"
      ]
     },
     "execution_count": 23,
     "metadata": {},
     "output_type": "execute_result"
    }
   ],
   "source": [
    "Repetitive_genres = pd.Series(data=np.reshape(Repetitive_genres.to_numpy(),Repetitive_genres.size)).dropna()\n",
    "Repetitive_genres.count()\n",
    "Repetitive_genres"
   ]
  },
  {
   "cell_type": "code",
   "execution_count": 24,
   "metadata": {},
   "outputs": [
    {
     "data": {
      "text/plain": [
       "Hentai                                        946\n",
       "Music                                         716\n",
       "Comedy                                        561\n",
       "Kids                                          227\n",
       "Music,Kids                                    183\n",
       "                                             ... \n",
       "Game,Comedy,Romance,School,Seinen               1\n",
       "Comedy,Police,Supernatural,Vampire,Shounen      1\n",
       "Game,School,Sports                              1\n",
       "Music,Magic                                     1\n",
       "Sci-Fi,Horror,Psychological,School              1\n",
       "Name: genres, Length: 4806, dtype: int64"
      ]
     },
     "execution_count": 24,
     "metadata": {},
     "output_type": "execute_result"
    }
   ],
   "source": [
    "df['genres'].value_counts()"
   ]
  },
  {
   "cell_type": "code",
   "execution_count": 25,
   "metadata": {},
   "outputs": [
    {
     "data": {
      "text/plain": [
       "array(['Action,Adventure,Comedy,Drama,Sci-Fi,Space',\n",
       "       'Action,Drama,Mystery,Sci-Fi,Space',\n",
       "       'Action,Sci-Fi,Adventure,Comedy,Drama,Shounen', ...,\n",
       "       'Music,Romance,Space', 'Action,Comedy,School,Sports',\n",
       "       'Comedy,Historical,Samurai'], dtype=object)"
      ]
     },
     "execution_count": 25,
     "metadata": {},
     "output_type": "execute_result"
    }
   ],
   "source": [
    "df['genres'].unique()"
   ]
  },
  {
   "cell_type": "code",
   "execution_count": 26,
   "metadata": {},
   "outputs": [
    {
     "data": {
      "text/plain": [
       "Comedy           5610\n",
       "Action           3569\n",
       "Fantasy          2916\n",
       "Adventure        2714\n",
       "Sci-Fi           2408\n",
       "Drama            2252\n",
       "Kids             1952\n",
       "Music            1891\n",
       "Shounen          1889\n",
       "Romance          1793\n",
       "Slice of Life    1757\n",
       "School           1569\n",
       "Supernatural     1359\n",
       "Hentai           1317\n",
       "Mecha            1044\n",
       "Magic            1029\n",
       "Historical        911\n",
       "Seinen            801\n",
       "Ecchi             746\n",
       "Mystery           676\n",
       "Shoujo            667\n",
       "Sports            654\n",
       "Parody            635\n",
       "Super Power       591\n",
       "Military          526\n",
       "Space             455\n",
       "Demons            447\n",
       "Horror            426\n",
       "Harem             393\n",
       "Martial Arts      367\n",
       "Game              364\n",
       "Psychological     306\n",
       "Police            234\n",
       "Dementia          202\n",
       "Samurai           182\n",
       "Vampire           130\n",
       "Thriller          120\n",
       "Cars              119\n",
       "Josei              93\n",
       "Shounen Ai         91\n",
       "Shoujo Ai          76\n",
       "Yaoi               40\n",
       "Yuri               32\n",
       "Sinen               1\n",
       "Sci-Fi\"             1\n",
       "Shoujo\"             1\n",
       "dtype: int64"
      ]
     },
     "execution_count": 26,
     "metadata": {},
     "output_type": "execute_result"
    }
   ],
   "source": [
    "Repetitive_genres =pd.Series(data=np.reshape(Repetitive_genres.to_numpy(),Repetitive_genres.size)).dropna().value_counts()\n",
    "Repetitive_genres"
   ]
  },
  {
   "cell_type": "code",
   "execution_count": 27,
   "metadata": {},
   "outputs": [
    {
     "data": {
      "text/plain": [
       "pandas.core.series.Series"
      ]
     },
     "execution_count": 27,
     "metadata": {},
     "output_type": "execute_result"
    }
   ],
   "source": [
    "type(Repetitive_genres)"
   ]
  },
  {
   "cell_type": "code",
   "execution_count": 28,
   "metadata": {},
   "outputs": [
    {
     "ename": "NameError",
     "evalue": "name 'themes_count' is not defined",
     "output_type": "error",
     "traceback": [
      "\u001b[1;31m---------------------------------------------------------------------------\u001b[0m",
      "\u001b[1;31mNameError\u001b[0m                                 Traceback (most recent call last)",
      "\u001b[1;32m<ipython-input-28-6608d59c6d19>\u001b[0m in \u001b[0;36m<module>\u001b[1;34m\u001b[0m\n\u001b[1;32m----> 1\u001b[1;33m \u001b[0mthemes_count\u001b[0m\u001b[1;33m.\u001b[0m\u001b[0mto_frame\u001b[0m\u001b[1;33m(\u001b[0m\u001b[0mname\u001b[0m\u001b[1;33m=\u001b[0m\u001b[1;34m\"count\"\u001b[0m\u001b[1;33m)\u001b[0m\u001b[1;33m\u001b[0m\u001b[1;33m\u001b[0m\u001b[0m\n\u001b[0m",
      "\u001b[1;31mNameError\u001b[0m: name 'themes_count' is not defined"
     ]
    }
   ],
   "source": [
    "themes_count.to_frame(name=\"count\")"
   ]
  },
  {
   "cell_type": "code",
   "execution_count": null,
   "metadata": {},
   "outputs": [],
   "source": [
    "Repetitive_genres = pd.DataFrame(data=Repetitive_genres,columns=['count'])\n",
    "Repetitive_genres"
   ]
  },
  {
   "cell_type": "code",
   "execution_count": 29,
   "metadata": {},
   "outputs": [
    {
     "data": {
      "text/plain": [
       "Comedy       5610\n",
       "Action       3569\n",
       "Fantasy      2916\n",
       "Adventure    2714\n",
       "Sci-Fi       2408\n",
       "Drama        2252\n",
       "Kids         1952\n",
       "Music        1891\n",
       "Shounen      1889\n",
       "Romance      1793\n",
       "dtype: int64"
      ]
     },
     "execution_count": 29,
     "metadata": {},
     "output_type": "execute_result"
    }
   ],
   "source": [
    "Top_10_frequent_Genre =Repetitive_genres.head(10)\n",
    "Top_10_frequent_Genre"
   ]
  },
  {
   "cell_type": "code",
   "execution_count": 30,
   "metadata": {},
   "outputs": [
    {
     "data": {
      "image/png": "[encoded data removed]",
      "text/plain": [
       "<Figure size 432x288 with 1 Axes>"
      ]
     },
     "metadata": {},
     "output_type": "display_data"
    }
   ],
   "source": [
    "Top_10_frequent_Genre.plot.barh()\n",
    "plt.show()"
   ]
  },
  {
   "cell_type": "code",
   "execution_count": null,
   "metadata": {},
   "outputs": [],
   "source": []
  },
  {
   "cell_type": "code",
   "execution_count": null,
   "metadata": {},
   "outputs": [],
   "source": []
  }
 ],
 "metadata": {
  "kernelspec": {
   "display_name": "Python 3",
   "language": "python",
   "name": "python3"
  },
  "language_info": {
   "codemirror_mode": {
    "name": "ipython",
    "version": 3
   },
   "file_extension": ".py",
   "mimetype": "text/x-python",
   "name": "python",
   "nbconvert_exporter": "python",
   "pygments_lexer": "ipython3",
   "version": "3.8.3"
  }
 },
 "nbformat": 4,
 "nbformat_minor": 4
}
