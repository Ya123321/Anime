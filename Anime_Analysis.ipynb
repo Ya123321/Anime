{
 "cells": [
  {
   "cell_type": "code",
   "execution_count": 2,
   "metadata": {},
   "outputs": [],
   "source": [
    "import pandas as pd\n",
    "import numpy as np\n",
    "import seaborn as sns\n",
    "import matplotlib.pyplot as plt\n",
    "import matplotlib.colors as mcolors"
   ]
  },
  {
   "cell_type": "code",
   "execution_count": 3,
   "metadata": {},
   "outputs": [],
   "source": [
    "sns.set_style(\"darkgrid\")"
   ]
  },
  {
   "cell_type": "code",
   "execution_count": 4,
   "metadata": {},
   "outputs": [
    {
     "data": {
      "text/html": [
       "<div>\n",
       "<style scoped>\n",
       "    .dataframe tbody tr th:only-of-type {\n",
       "        vertical-align: middle;\n",
       "    }\n",
       "\n",
       "    .dataframe tbody tr th {\n",
       "        vertical-align: top;\n",
       "    }\n",
       "\n",
       "    .dataframe thead th {\n",
       "        text-align: right;\n",
       "    }\n",
       "</style>\n",
       "<table border=\"1\" class=\"dataframe\">\n",
       "  <thead>\n",
       "    <tr style=\"text-align: right;\">\n",
       "      <th></th>\n",
       "      <th>anime_id</th>\n",
       "      <th>title</th>\n",
       "      <th>genres</th>\n",
       "      <th>media</th>\n",
       "      <th>episodes</th>\n",
       "      <th>rating</th>\n",
       "      <th>members</th>\n",
       "      <th>start_date</th>\n",
       "      <th>season</th>\n",
       "      <th>source</th>\n",
       "    </tr>\n",
       "  </thead>\n",
       "  <tbody>\n",
       "    <tr>\n",
       "      <th>0</th>\n",
       "      <td>1</td>\n",
       "      <td>Cowboy Bebop</td>\n",
       "      <td>Action,Adventure,Comedy,Drama,Sci-Fi,Space</td>\n",
       "      <td>tv</td>\n",
       "      <td>26</td>\n",
       "      <td>8.77</td>\n",
       "      <td>1324054.0</td>\n",
       "      <td>1998/4/3</td>\n",
       "      <td>spring_1998</td>\n",
       "      <td>original</td>\n",
       "    </tr>\n",
       "    <tr>\n",
       "      <th>1</th>\n",
       "      <td>5</td>\n",
       "      <td>Cowboy Bebop: Tengoku no Tobira</td>\n",
       "      <td>Action,Drama,Mystery,Sci-Fi,Space</td>\n",
       "      <td>movie</td>\n",
       "      <td>1</td>\n",
       "      <td>8.39</td>\n",
       "      <td>284827.0</td>\n",
       "      <td>2001/9/1</td>\n",
       "      <td>summer_2001</td>\n",
       "      <td>original</td>\n",
       "    </tr>\n",
       "    <tr>\n",
       "      <th>2</th>\n",
       "      <td>6</td>\n",
       "      <td>Trigun</td>\n",
       "      <td>Action,Sci-Fi,Adventure,Comedy,Drama,Shounen</td>\n",
       "      <td>tv</td>\n",
       "      <td>26</td>\n",
       "      <td>8.23</td>\n",
       "      <td>578887.0</td>\n",
       "      <td>1998/4/1</td>\n",
       "      <td>spring_1998</td>\n",
       "      <td>manga</td>\n",
       "    </tr>\n",
       "    <tr>\n",
       "      <th>3</th>\n",
       "      <td>7</td>\n",
       "      <td>Witch Hunter Robin</td>\n",
       "      <td>Action,Mystery,Police,Supernatural,Drama,Magic</td>\n",
       "      <td>tv</td>\n",
       "      <td>26</td>\n",
       "      <td>7.27</td>\n",
       "      <td>96487.0</td>\n",
       "      <td>2002/7/2</td>\n",
       "      <td>summer_2002</td>\n",
       "      <td>original</td>\n",
       "    </tr>\n",
       "    <tr>\n",
       "      <th>4</th>\n",
       "      <td>8</td>\n",
       "      <td>Bouken Ou Beet</td>\n",
       "      <td>Adventure,Fantasy,Shounen,Supernatural</td>\n",
       "      <td>tv</td>\n",
       "      <td>52</td>\n",
       "      <td>6.97</td>\n",
       "      <td>13450.0</td>\n",
       "      <td>2004/9/30</td>\n",
       "      <td>fall_2004</td>\n",
       "      <td>manga</td>\n",
       "    </tr>\n",
       "    <tr>\n",
       "      <th>...</th>\n",
       "      <td>...</td>\n",
       "      <td>...</td>\n",
       "      <td>...</td>\n",
       "      <td>...</td>\n",
       "      <td>...</td>\n",
       "      <td>...</td>\n",
       "      <td>...</td>\n",
       "      <td>...</td>\n",
       "      <td>...</td>\n",
       "      <td>...</td>\n",
       "    </tr>\n",
       "    <tr>\n",
       "      <th>15216</th>\n",
       "      <td>42392</td>\n",
       "      <td>Grisaia: Phantom Trigger The Animation - Starg...</td>\n",
       "      <td>Action,School</td>\n",
       "      <td>movie</td>\n",
       "      <td>1</td>\n",
       "      <td>6.95</td>\n",
       "      <td>16328.0</td>\n",
       "      <td>2020/11/27</td>\n",
       "      <td>fall_2020</td>\n",
       "      <td>visual_novel</td>\n",
       "    </tr>\n",
       "    <tr>\n",
       "      <th>15217</th>\n",
       "      <td>42395</td>\n",
       "      <td>Shakunetsu Kabaddi</td>\n",
       "      <td>Action,Comedy,School,Sports</td>\n",
       "      <td>tv</td>\n",
       "      <td>12</td>\n",
       "      <td>7.10</td>\n",
       "      <td>49112.0</td>\n",
       "      <td>2021/4/3</td>\n",
       "      <td>spring_2021</td>\n",
       "      <td>web_manga</td>\n",
       "    </tr>\n",
       "    <tr>\n",
       "      <th>15218</th>\n",
       "      <td>42397</td>\n",
       "      <td>Benkai to Ushiwakamaru</td>\n",
       "      <td>Comedy,Historical,Samurai</td>\n",
       "      <td>movie</td>\n",
       "      <td>1</td>\n",
       "      <td>NaN</td>\n",
       "      <td>65.0</td>\n",
       "      <td>1999/12/4</td>\n",
       "      <td>fall_1999</td>\n",
       "      <td>NaN</td>\n",
       "    </tr>\n",
       "    <tr>\n",
       "      <th>15219</th>\n",
       "      <td>42399</td>\n",
       "      <td>Honnouji no Hen</td>\n",
       "      <td>Historical,Samurai</td>\n",
       "      <td>movie</td>\n",
       "      <td>1</td>\n",
       "      <td>NaN</td>\n",
       "      <td>68.0</td>\n",
       "      <td>2000/3/18</td>\n",
       "      <td>winter_2000</td>\n",
       "      <td>NaN</td>\n",
       "    </tr>\n",
       "    <tr>\n",
       "      <th>15220</th>\n",
       "      <td>42400</td>\n",
       "      <td>Heian Sento</td>\n",
       "      <td>Comedy,Historical</td>\n",
       "      <td>movie</td>\n",
       "      <td>1</td>\n",
       "      <td>NaN</td>\n",
       "      <td>117.0</td>\n",
       "      <td>2000/11/3</td>\n",
       "      <td>fall_2000</td>\n",
       "      <td>NaN</td>\n",
       "    </tr>\n",
       "  </tbody>\n",
       "</table>\n",
       "<p>15221 rows × 10 columns</p>\n",
       "</div>"
      ],
      "text/plain": [
       "       anime_id                                              title  \\\n",
       "0             1                                       Cowboy Bebop   \n",
       "1             5                    Cowboy Bebop: Tengoku no Tobira   \n",
       "2             6                                             Trigun   \n",
       "3             7                                 Witch Hunter Robin   \n",
       "4             8                                     Bouken Ou Beet   \n",
       "...         ...                                                ...   \n",
       "15216     42392  Grisaia: Phantom Trigger The Animation - Starg...   \n",
       "15217     42395                                 Shakunetsu Kabaddi   \n",
       "15218     42397                             Benkai to Ushiwakamaru   \n",
       "15219     42399                                    Honnouji no Hen   \n",
       "15220     42400                                        Heian Sento   \n",
       "\n",
       "                                               genres  media  episodes  \\\n",
       "0          Action,Adventure,Comedy,Drama,Sci-Fi,Space     tv        26   \n",
       "1                   Action,Drama,Mystery,Sci-Fi,Space  movie         1   \n",
       "2        Action,Sci-Fi,Adventure,Comedy,Drama,Shounen     tv        26   \n",
       "3      Action,Mystery,Police,Supernatural,Drama,Magic     tv        26   \n",
       "4              Adventure,Fantasy,Shounen,Supernatural     tv        52   \n",
       "...                                               ...    ...       ...   \n",
       "15216                                   Action,School  movie         1   \n",
       "15217                     Action,Comedy,School,Sports     tv        12   \n",
       "15218                       Comedy,Historical,Samurai  movie         1   \n",
       "15219                              Historical,Samurai  movie         1   \n",
       "15220                               Comedy,Historical  movie         1   \n",
       "\n",
       "       rating    members  start_date       season        source  \n",
       "0        8.77  1324054.0    1998/4/3  spring_1998      original  \n",
       "1        8.39   284827.0    2001/9/1  summer_2001      original  \n",
       "2        8.23   578887.0    1998/4/1  spring_1998         manga  \n",
       "3        7.27    96487.0    2002/7/2  summer_2002      original  \n",
       "4        6.97    13450.0   2004/9/30    fall_2004         manga  \n",
       "...       ...        ...         ...          ...           ...  \n",
       "15216    6.95    16328.0  2020/11/27    fall_2020  visual_novel  \n",
       "15217    7.10    49112.0    2021/4/3  spring_2021     web_manga  \n",
       "15218     NaN       65.0   1999/12/4    fall_1999           NaN  \n",
       "15219     NaN       68.0   2000/3/18  winter_2000           NaN  \n",
       "15220     NaN      117.0   2000/11/3    fall_2000           NaN  \n",
       "\n",
       "[15221 rows x 10 columns]"
      ]
     },
     "execution_count": 4,
     "metadata": {},
     "output_type": "execute_result"
    }
   ],
   "source": [
    "df= pd.read_csv('animes.csv')\n",
    "df"
   ]
  },
  {
   "cell_type": "code",
   "execution_count": 5,
   "metadata": {
    "scrolled": true
   },
   "outputs": [
    {
     "data": {
      "text/html": [
       "<div>\n",
       "<style scoped>\n",
       "    .dataframe tbody tr th:only-of-type {\n",
       "        vertical-align: middle;\n",
       "    }\n",
       "\n",
       "    .dataframe tbody tr th {\n",
       "        vertical-align: top;\n",
       "    }\n",
       "\n",
       "    .dataframe thead th {\n",
       "        text-align: right;\n",
       "    }\n",
       "</style>\n",
       "<table border=\"1\" class=\"dataframe\">\n",
       "  <thead>\n",
       "    <tr style=\"text-align: right;\">\n",
       "      <th></th>\n",
       "      <th>anime_id</th>\n",
       "      <th>title</th>\n",
       "      <th>genres</th>\n",
       "      <th>media</th>\n",
       "      <th>episodes</th>\n",
       "      <th>rating</th>\n",
       "      <th>members</th>\n",
       "      <th>start_date</th>\n",
       "      <th>season</th>\n",
       "      <th>source</th>\n",
       "    </tr>\n",
       "  </thead>\n",
       "  <tbody>\n",
       "    <tr>\n",
       "      <th>0</th>\n",
       "      <td>1</td>\n",
       "      <td>Cowboy Bebop</td>\n",
       "      <td>Action,Adventure,Comedy,Drama,Sci-Fi,Space</td>\n",
       "      <td>tv</td>\n",
       "      <td>26</td>\n",
       "      <td>8.77</td>\n",
       "      <td>1324054.0</td>\n",
       "      <td>1998/4/3</td>\n",
       "      <td>spring_1998</td>\n",
       "      <td>original</td>\n",
       "    </tr>\n",
       "    <tr>\n",
       "      <th>1</th>\n",
       "      <td>5</td>\n",
       "      <td>Cowboy Bebop: Tengoku no Tobira</td>\n",
       "      <td>Action,Drama,Mystery,Sci-Fi,Space</td>\n",
       "      <td>movie</td>\n",
       "      <td>1</td>\n",
       "      <td>8.39</td>\n",
       "      <td>284827.0</td>\n",
       "      <td>2001/9/1</td>\n",
       "      <td>summer_2001</td>\n",
       "      <td>original</td>\n",
       "    </tr>\n",
       "    <tr>\n",
       "      <th>2</th>\n",
       "      <td>6</td>\n",
       "      <td>Trigun</td>\n",
       "      <td>Action,Sci-Fi,Adventure,Comedy,Drama,Shounen</td>\n",
       "      <td>tv</td>\n",
       "      <td>26</td>\n",
       "      <td>8.23</td>\n",
       "      <td>578887.0</td>\n",
       "      <td>1998/4/1</td>\n",
       "      <td>spring_1998</td>\n",
       "      <td>manga</td>\n",
       "    </tr>\n",
       "    <tr>\n",
       "      <th>3</th>\n",
       "      <td>7</td>\n",
       "      <td>Witch Hunter Robin</td>\n",
       "      <td>Action,Mystery,Police,Supernatural,Drama,Magic</td>\n",
       "      <td>tv</td>\n",
       "      <td>26</td>\n",
       "      <td>7.27</td>\n",
       "      <td>96487.0</td>\n",
       "      <td>2002/7/2</td>\n",
       "      <td>summer_2002</td>\n",
       "      <td>original</td>\n",
       "    </tr>\n",
       "    <tr>\n",
       "      <th>4</th>\n",
       "      <td>8</td>\n",
       "      <td>Bouken Ou Beet</td>\n",
       "      <td>Adventure,Fantasy,Shounen,Supernatural</td>\n",
       "      <td>tv</td>\n",
       "      <td>52</td>\n",
       "      <td>6.97</td>\n",
       "      <td>13450.0</td>\n",
       "      <td>2004/9/30</td>\n",
       "      <td>fall_2004</td>\n",
       "      <td>manga</td>\n",
       "    </tr>\n",
       "  </tbody>\n",
       "</table>\n",
       "</div>"
      ],
      "text/plain": [
       "   anime_id                            title  \\\n",
       "0         1                     Cowboy Bebop   \n",
       "1         5  Cowboy Bebop: Tengoku no Tobira   \n",
       "2         6                           Trigun   \n",
       "3         7               Witch Hunter Robin   \n",
       "4         8                   Bouken Ou Beet   \n",
       "\n",
       "                                           genres  media  episodes  rating  \\\n",
       "0      Action,Adventure,Comedy,Drama,Sci-Fi,Space     tv        26    8.77   \n",
       "1               Action,Drama,Mystery,Sci-Fi,Space  movie         1    8.39   \n",
       "2    Action,Sci-Fi,Adventure,Comedy,Drama,Shounen     tv        26    8.23   \n",
       "3  Action,Mystery,Police,Supernatural,Drama,Magic     tv        26    7.27   \n",
       "4          Adventure,Fantasy,Shounen,Supernatural     tv        52    6.97   \n",
       "\n",
       "     members start_date       season    source  \n",
       "0  1324054.0   1998/4/3  spring_1998  original  \n",
       "1   284827.0   2001/9/1  summer_2001  original  \n",
       "2   578887.0   1998/4/1  spring_1998     manga  \n",
       "3    96487.0   2002/7/2  summer_2002  original  \n",
       "4    13450.0  2004/9/30    fall_2004     manga  "
      ]
     },
     "execution_count": 5,
     "metadata": {},
     "output_type": "execute_result"
    }
   ],
   "source": [
    "df.head()"
   ]
  },
  {
   "cell_type": "markdown",
   "metadata": {},
   "source": [
    "Checks for missing values"
   ]
  },
  {
   "cell_type": "code",
   "execution_count": 7,
   "metadata": {},
   "outputs": [
    {
     "data": {
      "text/plain": [
       "<bound method DataFrame.sum of        anime_id  title  genres  media  episodes  rating  members  start_date  \\\n",
       "0         False  False   False  False     False   False    False       False   \n",
       "1         False  False   False  False     False   False    False       False   \n",
       "2         False  False   False  False     False   False    False       False   \n",
       "3         False  False   False  False     False   False    False       False   \n",
       "4         False  False   False  False     False   False    False       False   \n",
       "...         ...    ...     ...    ...       ...     ...      ...         ...   \n",
       "15216     False  False   False  False     False   False    False       False   \n",
       "15217     False  False   False  False     False   False    False       False   \n",
       "15218     False  False   False  False     False    True    False       False   \n",
       "15219     False  False   False  False     False    True    False       False   \n",
       "15220     False  False   False  False     False    True    False       False   \n",
       "\n",
       "       season  source  \n",
       "0       False   False  \n",
       "1       False   False  \n",
       "2       False   False  \n",
       "3       False   False  \n",
       "4       False   False  \n",
       "...       ...     ...  \n",
       "15216   False   False  \n",
       "15217   False   False  \n",
       "15218   False    True  \n",
       "15219   False    True  \n",
       "15220   False    True  \n",
       "\n",
       "[15221 rows x 10 columns]>"
      ]
     },
     "execution_count": 7,
     "metadata": {},
     "output_type": "execute_result"
    }
   ],
   "source": [
    "df.isna().sum"
   ]
  },
  {
   "cell_type": "code",
   "execution_count": 8,
   "metadata": {},
   "outputs": [
    {
     "name": "stdout",
     "output_type": "stream",
     "text": [
      "<class 'pandas.core.frame.DataFrame'>\n",
      "RangeIndex: 15221 entries, 0 to 15220\n",
      "Data columns (total 10 columns):\n",
      " #   Column      Non-Null Count  Dtype  \n",
      "---  ------      --------------  -----  \n",
      " 0   anime_id    15221 non-null  int64  \n",
      " 1   title       15221 non-null  object \n",
      " 2   genres      15218 non-null  object \n",
      " 3   media       15221 non-null  object \n",
      " 4   episodes    15221 non-null  int64  \n",
      " 5   rating      11876 non-null  float64\n",
      " 6   members     15205 non-null  float64\n",
      " 7   start_date  15221 non-null  object \n",
      " 8   season      15221 non-null  object \n",
      " 9   source      12294 non-null  object \n",
      "dtypes: float64(2), int64(2), object(6)\n",
      "memory usage: 1.2+ MB\n"
     ]
    }
   ],
   "source": [
    "df.info()"
   ]
  },
  {
   "cell_type": "code",
   "execution_count": 9,
   "metadata": {},
   "outputs": [
    {
     "data": {
      "text/plain": [
       "(15221, 10)"
      ]
     },
     "execution_count": 9,
     "metadata": {},
     "output_type": "execute_result"
    }
   ],
   "source": [
    "df.shape\n",
    "#10 columns and 15221 rows"
   ]
  },
  {
   "cell_type": "code",
   "execution_count": 10,
   "metadata": {},
   "outputs": [
    {
     "data": {
      "text/plain": [
       "Index(['anime_id', 'title', 'genres', 'media', 'episodes', 'rating', 'members',\n",
       "       'start_date', 'season', 'source'],\n",
       "      dtype='object')"
      ]
     },
     "execution_count": 10,
     "metadata": {},
     "output_type": "execute_result"
    }
   ],
   "source": [
    "df.columns"
   ]
  },
  {
   "cell_type": "code",
   "execution_count": 11,
   "metadata": {},
   "outputs": [
    {
     "data": {
      "text/plain": [
       "10"
      ]
     },
     "execution_count": 11,
     "metadata": {},
     "output_type": "execute_result"
    }
   ],
   "source": [
    "len(df.columns)"
   ]
  },
  {
   "cell_type": "code",
   "execution_count": 26,
   "metadata": {},
   "outputs": [
    {
     "data": {
      "text/html": [
       "<div>\n",
       "<style scoped>\n",
       "    .dataframe tbody tr th:only-of-type {\n",
       "        vertical-align: middle;\n",
       "    }\n",
       "\n",
       "    .dataframe tbody tr th {\n",
       "        vertical-align: top;\n",
       "    }\n",
       "\n",
       "    .dataframe thead th {\n",
       "        text-align: right;\n",
       "    }\n",
       "</style>\n",
       "<table border=\"1\" class=\"dataframe\">\n",
       "  <thead>\n",
       "    <tr style=\"text-align: right;\">\n",
       "      <th></th>\n",
       "      <th>year</th>\n",
       "      <th>price</th>\n",
       "    </tr>\n",
       "  </thead>\n",
       "  <tbody>\n",
       "    <tr>\n",
       "      <th>count</th>\n",
       "      <td>1020.000000</td>\n",
       "      <td>1020.000000</td>\n",
       "    </tr>\n",
       "    <tr>\n",
       "      <th>mean</th>\n",
       "      <td>2018.711765</td>\n",
       "      <td>1723.923157</td>\n",
       "    </tr>\n",
       "    <tr>\n",
       "      <th>std</th>\n",
       "      <td>5.685688</td>\n",
       "      <td>1071.256658</td>\n",
       "    </tr>\n",
       "    <tr>\n",
       "      <th>min</th>\n",
       "      <td>1977.000000</td>\n",
       "      <td>0.000000</td>\n",
       "    </tr>\n",
       "    <tr>\n",
       "      <th>25%</th>\n",
       "      <td>2017.000000</td>\n",
       "      <td>1119.677500</td>\n",
       "    </tr>\n",
       "    <tr>\n",
       "      <th>50%</th>\n",
       "      <td>2021.000000</td>\n",
       "      <td>1423.940000</td>\n",
       "    </tr>\n",
       "    <tr>\n",
       "      <th>75%</th>\n",
       "      <td>2022.000000</td>\n",
       "      <td>1896.007500</td>\n",
       "    </tr>\n",
       "    <tr>\n",
       "      <th>max</th>\n",
       "      <td>2023.000000</td>\n",
       "      <td>11237.060000</td>\n",
       "    </tr>\n",
       "  </tbody>\n",
       "</table>\n",
       "</div>"
      ],
      "text/plain": [
       "              year         price\n",
       "count  1020.000000   1020.000000\n",
       "mean   2018.711765   1723.923157\n",
       "std       5.685688   1071.256658\n",
       "min    1977.000000      0.000000\n",
       "25%    2017.000000   1119.677500\n",
       "50%    2021.000000   1423.940000\n",
       "75%    2022.000000   1896.007500\n",
       "max    2023.000000  11237.060000"
      ]
     },
     "execution_count": 26,
     "metadata": {},
     "output_type": "execute_result"
    }
   ],
   "source": [
    "df.describe()"
   ]
  },
  {
   "cell_type": "markdown",
   "metadata": {},
   "source": [
    "Top 10 popular genres:"
   ]
  },
  {
   "cell_type": "code",
   "execution_count": 16,
   "metadata": {},
   "outputs": [
    {
     "data": {
      "text/plain": [
       "genres\n",
       "Hentai                  940\n",
       "Music                   496\n",
       "Comedy                  317\n",
       "Slice of Life,Comedy    101\n",
       "Slice of Life           100\n",
       "Fantasy                  91\n",
       "Comedy,Parody            65\n",
       "Drama                    60\n",
       "Comedy,Slice of Life     59\n",
       "Adventure,Fantasy        57\n",
       "Name: rating, dtype: int64"
      ]
     },
     "execution_count": 16,
     "metadata": {},
     "output_type": "execute_result"
    }
   ],
   "source": [
    "top_10_popular_genres_anime=df.groupby(\"genres\").count().sort_values(by='rating', ascending=False)[\"rating\"][:10]\n",
    "top_10_popular_genres_anime"
   ]
  },
  {
   "cell_type": "code",
   "execution_count": 17,
   "metadata": {},
   "outputs": [
    {
     "data": {
      "image/png": "[encoded data removed]",
      "text/plain": [
       "<Figure size 432x288 with 1 Axes>"
      ]
     },
     "metadata": {},
     "output_type": "display_data"
    }
   ],
   "source": [
    "top_10_popular_genres_anime.plot.barh()\n",
    "plt.show()"
   ]
  },
  {
   "cell_type": "markdown",
   "metadata": {},
   "source": [
    "Top 5 rating anime"
   ]
  },
  {
   "cell_type": "code",
   "execution_count": 18,
   "metadata": {},
   "outputs": [
    {
     "data": {
      "text/html": [
       "<div>\n",
       "<style scoped>\n",
       "    .dataframe tbody tr th:only-of-type {\n",
       "        vertical-align: middle;\n",
       "    }\n",
       "\n",
       "    .dataframe tbody tr th {\n",
       "        vertical-align: top;\n",
       "    }\n",
       "\n",
       "    .dataframe thead th {\n",
       "        text-align: right;\n",
       "    }\n",
       "</style>\n",
       "<table border=\"1\" class=\"dataframe\">\n",
       "  <thead>\n",
       "    <tr style=\"text-align: right;\">\n",
       "      <th></th>\n",
       "      <th>rating</th>\n",
       "      <th>title</th>\n",
       "    </tr>\n",
       "  </thead>\n",
       "  <tbody>\n",
       "    <tr>\n",
       "      <th>3921</th>\n",
       "      <td>9.18</td>\n",
       "      <td>Fullmetal Alchemist: Brotherhood</td>\n",
       "    </tr>\n",
       "    <tr>\n",
       "      <th>5500</th>\n",
       "      <td>9.11</td>\n",
       "      <td>Steins;Gate</td>\n",
       "    </tr>\n",
       "    <tr>\n",
       "      <th>13505</th>\n",
       "      <td>9.11</td>\n",
       "      <td>Shingeki no Kyojin Season 3 Part 2</td>\n",
       "    </tr>\n",
       "    <tr>\n",
       "      <th>9273</th>\n",
       "      <td>9.09</td>\n",
       "      <td>Gintama・ゑｽｰ</td>\n",
       "    </tr>\n",
       "    <tr>\n",
       "      <th>6237</th>\n",
       "      <td>9.08</td>\n",
       "      <td>Hunter x Hunter (2011)</td>\n",
       "    </tr>\n",
       "  </tbody>\n",
       "</table>\n",
       "</div>"
      ],
      "text/plain": [
       "       rating                               title\n",
       "3921     9.18    Fullmetal Alchemist: Brotherhood\n",
       "5500     9.11                         Steins;Gate\n",
       "13505    9.11  Shingeki no Kyojin Season 3 Part 2\n",
       "9273     9.09                         Gintama・ゑｽｰ\n",
       "6237     9.08              Hunter x Hunter (2011)"
      ]
     },
     "execution_count": 18,
     "metadata": {},
     "output_type": "execute_result"
    }
   ],
   "source": [
    "top_5_rating_anime=df[[\"rating\",\"title\"]].sort_values(by=\"rating\",ascending=False)[:5]\n",
    "top_5_rating_anime"
   ]
  },
  {
   "cell_type": "code",
   "execution_count": 146,
   "metadata": {},
   "outputs": [
    {
     "data": {
      "text/plain": [
       "<function matplotlib.pyplot.show(*args, **kw)>"
      ]
     },
     "execution_count": 146,
     "metadata": {},
     "output_type": "execute_result"
    },
    {
     "data": {
      "text/plain": [
       "<Figure size 96x72 with 0 Axes>"
      ]
     },
     "metadata": {},
     "output_type": "display_data"
    },
    {
     "data": {
      "image/png": "[encoded data removed]",
      "text/plain": [
       "<Figure size 1080x360 with 1 Axes>"
      ]
     },
     "metadata": {},
     "output_type": "display_data"
    }
   ],
   "source": [
    "plt.figure(figsize=(8, 6), dpi=12)\n",
    "f = plt.figure()\n",
    "f.set_figwidth(15)\n",
    "f.set_figheight(5)\n",
    "sns.barplot(y=\"rating\", x=\"title\",data=top_5_rating_anime)\n",
    "plt.title(\"top_5_rating_anime\")\n",
    "plt.show"
   ]
  },
  {
   "cell_type": "markdown",
   "metadata": {},
   "source": [
    "Top 5 anime with most members"
   ]
  },
  {
   "cell_type": "code",
   "execution_count": 27,
   "metadata": {},
   "outputs": [
    {
     "data": {
      "text/html": [
       "<div>\n",
       "<style scoped>\n",
       "    .dataframe tbody tr th:only-of-type {\n",
       "        vertical-align: middle;\n",
       "    }\n",
       "\n",
       "    .dataframe tbody tr th {\n",
       "        vertical-align: top;\n",
       "    }\n",
       "\n",
       "    .dataframe thead th {\n",
       "        text-align: right;\n",
       "    }\n",
       "</style>\n",
       "<table border=\"1\" class=\"dataframe\">\n",
       "  <thead>\n",
       "    <tr style=\"text-align: right;\">\n",
       "      <th></th>\n",
       "      <th>members</th>\n",
       "      <th>title</th>\n",
       "      <th>season</th>\n",
       "    </tr>\n",
       "  </thead>\n",
       "  <tbody>\n",
       "    <tr>\n",
       "      <th>1385</th>\n",
       "      <td>2780502.0</td>\n",
       "      <td>Death Note</td>\n",
       "      <td>fall_2006</td>\n",
       "    </tr>\n",
       "    <tr>\n",
       "      <th>7166</th>\n",
       "      <td>2727137.0</td>\n",
       "      <td>Shingeki no Kyojin</td>\n",
       "      <td>spring_2013</td>\n",
       "    </tr>\n",
       "    <tr>\n",
       "      <th>3921</th>\n",
       "      <td>2372958.0</td>\n",
       "      <td>Fullmetal Alchemist: Brotherhood</td>\n",
       "      <td>spring_2009</td>\n",
       "    </tr>\n",
       "    <tr>\n",
       "      <th>6368</th>\n",
       "      <td>2331007.0</td>\n",
       "      <td>Sword Art Online</td>\n",
       "      <td>summer_2012</td>\n",
       "    </tr>\n",
       "    <tr>\n",
       "      <th>9620</th>\n",
       "      <td>2266752.0</td>\n",
       "      <td>One Punch Man</td>\n",
       "      <td>fall_2015</td>\n",
       "    </tr>\n",
       "  </tbody>\n",
       "</table>\n",
       "</div>"
      ],
      "text/plain": [
       "        members                             title       season\n",
       "1385  2780502.0                        Death Note    fall_2006\n",
       "7166  2727137.0                Shingeki no Kyojin  spring_2013\n",
       "3921  2372958.0  Fullmetal Alchemist: Brotherhood  spring_2009\n",
       "6368  2331007.0                  Sword Art Online  summer_2012\n",
       "9620  2266752.0                     One Punch Man    fall_2015"
      ]
     },
     "execution_count": 27,
     "metadata": {},
     "output_type": "execute_result"
    }
   ],
   "source": [
    "top_5_members_anime=df[[\"members\",\"title\",\"season\"]].sort_values(by=\"members\",ascending=False)[:5]\n",
    "top_5_members_anime"
   ]
  },
  {
   "cell_type": "code",
   "execution_count": 138,
   "metadata": {},
   "outputs": [
    {
     "data": {
      "image/png": "[encoded data removed]",
      "text/plain": [
       "<Figure size 720x360 with 1 Axes>"
      ]
     },
     "metadata": {},
     "output_type": "display_data"
    }
   ],
   "source": [
    "plt.figure(figsize=(10,5))\n",
    "sns.barplot(x=\"members\",y=\"title\",data=top_members_anime)\n",
    "plt.title(\"top_most_members_anime\")\n",
    "plt.show()"
   ]
  },
  {
   "cell_type": "markdown",
   "metadata": {},
   "source": [
    "Top 5 highest rated sources "
   ]
  },
  {
   "cell_type": "code",
   "execution_count": 22,
   "metadata": {},
   "outputs": [
    {
     "data": {
      "text/plain": [
       "source\n",
       "manga           3383\n",
       "original        2814\n",
       "visual_novel     968\n",
       "game             715\n",
       "light_novel      712\n",
       "Name: rating, dtype: int64"
      ]
     },
     "execution_count": 22,
     "metadata": {},
     "output_type": "execute_result"
    }
   ],
   "source": [
    "top_5_popular_source_by_rating=df.groupby(\"source\").count().sort_values(by='rating', ascending=False)[\"rating\"][:5]\n",
    "top_5_popular_source_by_rating"
   ]
  },
  {
   "cell_type": "code",
   "execution_count": 23,
   "metadata": {},
   "outputs": [
    {
     "data": {
      "image/png": "[encoded data removed]",
      "text/plain": [
       "<Figure size 432x288 with 1 Axes>"
      ]
     },
     "metadata": {},
     "output_type": "display_data"
    }
   ],
   "source": [
    "top_5_popular_source_by_rating.plot.barh()\n",
    "plt.show()"
   ]
  },
  {
   "cell_type": "markdown",
   "metadata": {},
   "source": [
    "Checks correlation between number of members and rating"
   ]
  },
  {
   "cell_type": "code",
   "execution_count": 24,
   "metadata": {},
   "outputs": [
    {
     "name": "stdout",
     "output_type": "stream",
     "text": [
      "           rating   members\n",
      "rating   1.000000  0.409289\n",
      "members  0.409289  1.000000\n"
     ]
    }
   ],
   "source": [
    "corr=df[['rating','members']].corr()\n",
    "print(corr)"
   ]
  },
  {
   "cell_type": "code",
   "execution_count": 25,
   "metadata": {},
   "outputs": [
    {
     "data": {
      "text/plain": [
       "<matplotlib.axes._subplots.AxesSubplot at 0x2404421b6d0>"
      ]
     },
     "execution_count": 25,
     "metadata": {},
     "output_type": "execute_result"
    },
    {
     "data": {
      "image/png": "[encoded data removed]",
      "text/plain": [
       "<Figure size 432x288 with 2 Axes>"
      ]
     },
     "metadata": {},
     "output_type": "display_data"
    }
   ],
   "source": [
    "sns.heatmap(data=corr, annot=True)"
   ]
  },
  {
   "cell_type": "code",
   "execution_count": null,
   "metadata": {},
   "outputs": [],
   "source": []
  }
 ],
 "metadata": {
  "kernelspec": {
   "display_name": "Python 3",
   "language": "python",
   "name": "python3"
  },
  "language_info": {
   "codemirror_mode": {
    "name": "ipython",
    "version": 3
   },
   "file_extension": ".py",
   "mimetype": "text/x-python",
   "name": "python",
   "nbconvert_exporter": "python",
   "pygments_lexer": "ipython3",
   "version": "3.8.3"
  }
 },
 "nbformat": 4,
 "nbformat_minor": 4
}
